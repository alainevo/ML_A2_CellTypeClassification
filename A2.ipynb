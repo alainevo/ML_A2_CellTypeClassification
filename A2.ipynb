{
 "cells": [
  {
   "cell_type": "markdown",
   "metadata": {
    "id": "view-in-github",
    "colab_type": "text"
   },
   "source": [
    "<a href=\"https://colab.research.google.com/github/alainevo/cosc2673_a2/blob/main/A2.ipynb\" target=\"_parent\"><img src=\"https://colab.research.google.com/assets/colab-badge.svg\" alt=\"Open In Colab\"/></a>"
   ]
  },
  {
   "cell_type": "markdown",
   "metadata": {
    "id": "cN3vjfhXciFB"
   },
   "source": [
    "## Load and Set up\n"
   ]
  },
  {
   "cell_type": "markdown",
   "metadata": {
    "id": "7FiO6eEOcgXa"
   },
   "source": [
    "Import libraries"
   ]
  },
  {
   "cell_type": "code",
   "execution_count": 1,
   "metadata": {
    "id": "iTlf8cUJkdWD",
    "ExecuteTime": {
     "end_time": "2023-05-11T04:26:15.484089500Z",
     "start_time": "2023-05-11T04:26:11.127674400Z"
    }
   },
   "outputs": [],
   "source": [
    "import numpy as np\n",
    "from sklearn.model_selection import train_test_split\n",
    "import pandas as pd\n",
    "import os, zipfile\n",
    "import pathlib\n",
    "import matplotlib.pyplot as plt\n",
    "\n",
    "import tensorflow as tf"
   ]
  },
  {
   "cell_type": "markdown",
   "metadata": {
    "id": "xIWajJfvlSRx"
   },
   "source": [
    "Check if notebook is running in colab to prepare for dataloading"
   ]
  },
  {
   "cell_type": "code",
   "execution_count": 5,
   "metadata": {
    "colab": {
     "base_uri": "https://localhost:8080/"
    },
    "id": "FGfjw28MG5_l",
    "outputId": "d496ef99-d30f-4097-b543-2d371eabdf39",
    "ExecuteTime": {
     "end_time": "2023-05-11T04:26:34.253501500Z",
     "start_time": "2023-05-11T04:26:34.227508300Z"
    }
   },
   "outputs": [],
   "source": [
    "if os.getenv(\"COLAB_RELEASE_TAG\"):\n",
    "   InColab = True\n",
    "else:\n",
    "   InColab = False\n",
    "   \n",
    "if InColab:\n",
    "  from google.colab import drive\n",
    "  drive.mount('/content/drive')"
   ]
  },
  {
   "cell_type": "markdown",
   "metadata": {
    "id": "M4vdNodGlace"
   },
   "source": [
    "**Load data**\n"
   ]
  },
  {
   "cell_type": "code",
   "execution_count": 6,
   "metadata": {
    "id": "D6yNHpXZP-Jr",
    "ExecuteTime": {
     "end_time": "2023-05-11T04:26:46.337348Z",
     "start_time": "2023-05-11T04:26:36.207741400Z"
    }
   },
   "outputs": [
    {
     "name": "stderr",
     "output_type": "stream",
     "text": [
      "'rm' is not recognized as an internal or external command,\n",
      "operable program or batch file.\n"
     ]
    }
   ],
   "source": [
    "if InColab:\n",
    "  if pathlib.Path('/dataset').exists():\n",
    "    !rm -rf /dataset \n",
    "  with zipfile.ZipFile('/content/drive/MyDrive/A2/Image_classification_data.zip','r') as zip_ref:\n",
    "      zip_ref.extractall(\"/dataset\")\n",
    "      data = pd.read_csv('/dataset/data_labels_mainData.csv')\n",
    "      data_extra = pd.read_csv('/dataset/data_labels_extraData.csv')\n",
    "\n",
    "else:\n",
    "  if pathlib.Path('./dataset').exists():\n",
    "    !rm -rf ./dataset \n",
    "  with zipfile.ZipFile('./Image_classification_data.zip','r') as zip_ref:\n",
    "      zip_ref.extractall(\"./dataset\")\n",
    "      data = pd.read_csv('./dataset/data_labels_mainData.csv')\n",
    "      data_extra = pd.read_csv('./dataset/data_labels_extraData.csv')"
   ]
  },
  {
   "cell_type": "markdown",
   "metadata": {
    "id": "Gg17Qh120rMv"
   },
   "source": [
    "Check if the data is loaded properly"
   ]
  },
  {
   "cell_type": "code",
   "execution_count": 7,
   "metadata": {
    "colab": {
     "base_uri": "https://localhost:8080/",
     "height": 423
    },
    "id": "jQZVE-DUUGdj",
    "outputId": "4bdb2432-72d4-4d64-fc90-55e007b8d3d9",
    "ExecuteTime": {
     "end_time": "2023-05-11T03:56:55.236599Z",
     "start_time": "2023-05-11T03:56:55.200606700Z"
    }
   },
   "outputs": [
    {
     "data": {
      "text/plain": "      InstanceID  patientID  ImageName cellTypeName  cellType  isCancerous\n0          22405          1  22405.png   fibroblast         0            0\n1          22406          1  22406.png   fibroblast         0            0\n2          22407          1  22407.png   fibroblast         0            0\n3          22408          1  22408.png   fibroblast         0            0\n4          22409          1  22409.png   fibroblast         0            0\n...          ...        ...        ...          ...       ...          ...\n9891        1625         60   1625.png   epithelial         2            1\n9892        1626         60   1626.png   epithelial         2            1\n9893        1627         60   1627.png   epithelial         2            1\n9894        1628         60   1628.png   epithelial         2            1\n9895        1629         60   1629.png   epithelial         2            1\n\n[9896 rows x 6 columns]",
      "text/html": "<div>\n<style scoped>\n    .dataframe tbody tr th:only-of-type {\n        vertical-align: middle;\n    }\n\n    .dataframe tbody tr th {\n        vertical-align: top;\n    }\n\n    .dataframe thead th {\n        text-align: right;\n    }\n</style>\n<table border=\"1\" class=\"dataframe\">\n  <thead>\n    <tr style=\"text-align: right;\">\n      <th></th>\n      <th>InstanceID</th>\n      <th>patientID</th>\n      <th>ImageName</th>\n      <th>cellTypeName</th>\n      <th>cellType</th>\n      <th>isCancerous</th>\n    </tr>\n  </thead>\n  <tbody>\n    <tr>\n      <th>0</th>\n      <td>22405</td>\n      <td>1</td>\n      <td>22405.png</td>\n      <td>fibroblast</td>\n      <td>0</td>\n      <td>0</td>\n    </tr>\n    <tr>\n      <th>1</th>\n      <td>22406</td>\n      <td>1</td>\n      <td>22406.png</td>\n      <td>fibroblast</td>\n      <td>0</td>\n      <td>0</td>\n    </tr>\n    <tr>\n      <th>2</th>\n      <td>22407</td>\n      <td>1</td>\n      <td>22407.png</td>\n      <td>fibroblast</td>\n      <td>0</td>\n      <td>0</td>\n    </tr>\n    <tr>\n      <th>3</th>\n      <td>22408</td>\n      <td>1</td>\n      <td>22408.png</td>\n      <td>fibroblast</td>\n      <td>0</td>\n      <td>0</td>\n    </tr>\n    <tr>\n      <th>4</th>\n      <td>22409</td>\n      <td>1</td>\n      <td>22409.png</td>\n      <td>fibroblast</td>\n      <td>0</td>\n      <td>0</td>\n    </tr>\n    <tr>\n      <th>...</th>\n      <td>...</td>\n      <td>...</td>\n      <td>...</td>\n      <td>...</td>\n      <td>...</td>\n      <td>...</td>\n    </tr>\n    <tr>\n      <th>9891</th>\n      <td>1625</td>\n      <td>60</td>\n      <td>1625.png</td>\n      <td>epithelial</td>\n      <td>2</td>\n      <td>1</td>\n    </tr>\n    <tr>\n      <th>9892</th>\n      <td>1626</td>\n      <td>60</td>\n      <td>1626.png</td>\n      <td>epithelial</td>\n      <td>2</td>\n      <td>1</td>\n    </tr>\n    <tr>\n      <th>9893</th>\n      <td>1627</td>\n      <td>60</td>\n      <td>1627.png</td>\n      <td>epithelial</td>\n      <td>2</td>\n      <td>1</td>\n    </tr>\n    <tr>\n      <th>9894</th>\n      <td>1628</td>\n      <td>60</td>\n      <td>1628.png</td>\n      <td>epithelial</td>\n      <td>2</td>\n      <td>1</td>\n    </tr>\n    <tr>\n      <th>9895</th>\n      <td>1629</td>\n      <td>60</td>\n      <td>1629.png</td>\n      <td>epithelial</td>\n      <td>2</td>\n      <td>1</td>\n    </tr>\n  </tbody>\n</table>\n<p>9896 rows × 6 columns</p>\n</div>"
     },
     "execution_count": 7,
     "metadata": {},
     "output_type": "execute_result"
    }
   ],
   "source": [
    "data"
   ]
  },
  {
   "cell_type": "code",
   "execution_count": 8,
   "metadata": {
    "id": "CTk7bDz1y3zp",
    "ExecuteTime": {
     "end_time": "2023-05-11T03:56:55.271143700Z",
     "start_time": "2023-05-11T03:56:55.229603100Z"
    }
   },
   "outputs": [],
   "source": [
    "# from google.colab import drive\n",
    "\n",
    "# MOUNT_PATH = '/content/drive/'\n",
    "# PROJECT_DIR = MOUNT_PATH + 'My Drive//'\n",
    "\n",
    "# drive.mount(MOUNT_PATH)"
   ]
  },
  {
   "cell_type": "code",
   "execution_count": 9,
   "metadata": {
    "id": "bSznpiWZzF5T",
    "ExecuteTime": {
     "end_time": "2023-05-11T03:56:55.272144Z",
     "start_time": "2023-05-11T03:56:55.246611500Z"
    }
   },
   "outputs": [],
   "source": [
    "# data = pd.read_csv(PROJECT_DIR + \"data_labels_mainData.csv\")\n",
    "# data_extra = pd.read_csv(PROJECT_DIR + \"data_labels_extraData.csv\")"
   ]
  },
  {
   "cell_type": "code",
   "execution_count": 10,
   "metadata": {
    "id": "g2AkHFMqzU-u",
    "ExecuteTime": {
     "end_time": "2023-05-11T03:56:55.294142100Z",
     "start_time": "2023-05-11T03:56:55.261141200Z"
    }
   },
   "outputs": [],
   "source": [
    "# !unzip -n -qq /content/drive/MyDrive/A2/patch_images.zip "
   ]
  },
  {
   "cell_type": "markdown",
   "metadata": {
    "id": "4thTfw2Pc_MY"
   },
   "source": [
    "# Task I: Cancerous Cell Classification\n",
    "\n"
   ]
  },
  {
   "cell_type": "markdown",
   "metadata": {
    "id": "COLt96OXd8i0"
   },
   "source": [
    "## 1. Overview & Objective"
   ]
  },
  {
   "cell_type": "markdown",
   "metadata": {
    "id": "JMTYFFYBeHTx"
   },
   "source": [
    "## 2. Exploratory Data Analysis\n"
   ]
  },
  {
   "cell_type": "code",
   "execution_count": 11,
   "metadata": {
    "colab": {
     "base_uri": "https://localhost:8080/"
    },
    "id": "FMkIOYen5OC5",
    "outputId": "40064d90-9bea-45cf-96ee-31244343c897",
    "ExecuteTime": {
     "end_time": "2023-05-11T03:56:55.824785600Z",
     "start_time": "2023-05-11T03:56:55.275140Z"
    }
   },
   "outputs": [
    {
     "name": "stdout",
     "output_type": "stream",
     "text": [
      "<class 'pandas.core.frame.DataFrame'>\n",
      "RangeIndex: 9896 entries, 0 to 9895\n",
      "Data columns (total 6 columns):\n",
      " #   Column        Non-Null Count  Dtype \n",
      "---  ------        --------------  ----- \n",
      " 0   InstanceID    9896 non-null   int64 \n",
      " 1   patientID     9896 non-null   int64 \n",
      " 2   ImageName     9896 non-null   object\n",
      " 3   cellTypeName  9896 non-null   object\n",
      " 4   cellType      9896 non-null   int64 \n",
      " 5   isCancerous   9896 non-null   int64 \n",
      "dtypes: int64(4), object(2)\n",
      "memory usage: 464.0+ KB\n"
     ]
    }
   ],
   "source": [
    "data.info()"
   ]
  },
  {
   "cell_type": "markdown",
   "metadata": {
    "id": "Z2di7ln25QeD"
   },
   "source": [
    "**Observation:**\n",
    "* No missing values\n",
    "* Data type of cellType and isCancerous are correct"
   ]
  },
  {
   "cell_type": "markdown",
   "metadata": {
    "id": "nlNERRIGiXg1"
   },
   "source": [
    "### Identifying Class Imbalance"
   ]
  },
  {
   "cell_type": "markdown",
   "metadata": {
    "id": "5C9Dy7K6oaiN"
   },
   "source": [
    "Plot the graph to show number between cancer patients and non-cancer patients"
   ]
  },
  {
   "cell_type": "code",
   "execution_count": 12,
   "metadata": {
    "colab": {
     "base_uri": "https://localhost:8080/",
     "height": 333
    },
    "id": "WQkD5q4YrbR5",
    "outputId": "cab7a4d1-48f5-4913-8ba2-fd4c9f1b6e49",
    "ExecuteTime": {
     "end_time": "2023-05-11T03:56:55.914313500Z",
     "start_time": "2023-05-11T03:56:55.417667Z"
    }
   },
   "outputs": [
    {
     "data": {
      "text/plain": "<Figure size 300x300 with 1 Axes>",
      "image/png": "[encoded data removed]"
     },
     "metadata": {},
     "output_type": "display_data"
    }
   ],
   "source": [
    "import seaborn as sns\n",
    "\n",
    "count_cancer_data = data.groupby('patientID')['isCancerous'].nunique().reset_index()\n",
    "fig = plt.subplots(figsize=(3, 3))\n",
    "\n",
    "ax = sns.countplot(x ='isCancerous', data = count_cancer_data)\n",
    "ax.set_ylim([0, max(count_cancer_data['patientID']) + 1])\n",
    "ax.set_xticklabels(['Non-Cancer', 'Cancer'])\n",
    "ax.bar_label(ax.containers[0])\n",
    "plt.title('No. of Cancer Patients vs Non-Cancer Patients')\n",
    "plt.show()"
   ]
  },
  {
   "cell_type": "markdown",
   "metadata": {
    "id": "_dZT07TPgGdD"
   },
   "source": [
    "Plot the number of cancerous cell and non-cancerous cell in the main dataset."
   ]
  },
  {
   "cell_type": "code",
   "execution_count": 13,
   "metadata": {
    "colab": {
     "base_uri": "https://localhost:8080/",
     "height": 333
    },
    "id": "Y_L_Poqiz5U5",
    "outputId": "66823f88-abd6-4236-edf6-0672df125b69",
    "ExecuteTime": {
     "end_time": "2023-05-11T03:56:55.914313500Z",
     "start_time": "2023-05-11T03:56:55.665248600Z"
    }
   },
   "outputs": [
    {
     "data": {
      "text/plain": "<Figure size 300x300 with 1 Axes>",
      "image/png": "[encoded data removed]"
     },
     "metadata": {},
     "output_type": "display_data"
    }
   ],
   "source": [
    "fig = plt.subplots(figsize=(3, 3))\n",
    "ax = sns.countplot(x ='isCancerous', data = data)\n",
    "ax.set_xticklabels(ax.get_xticklabels(),rotation=0)\n",
    "ax.set_ylim([0, data.shape[0]])\n",
    "ax.bar_label(ax.containers[0])\n",
    "plt.title('No. of Non-Cancerous Cell vs Cancerous Cell in MainDataset')\n",
    "plt.show()"
   ]
  },
  {
   "cell_type": "markdown",
   "metadata": {
    "id": "o75nzFgW5GFS"
   },
   "source": [
    "As can be seen from the plot above, **the dataset is imbalance** between Cancerous Cell and Non-Cancerous Cell."
   ]
  },
  {
   "cell_type": "code",
   "execution_count": 14,
   "metadata": {
    "colab": {
     "base_uri": "https://localhost:8080/",
     "height": 344
    },
    "id": "Ac3cfnx9jKtz",
    "outputId": "bfb03b9b-dda8-412d-ad9a-cd8b7215215b",
    "ExecuteTime": {
     "end_time": "2023-05-11T03:56:56.102390300Z",
     "start_time": "2023-05-11T03:56:55.808778900Z"
    }
   },
   "outputs": [
    {
     "data": {
      "text/plain": "<Figure size 370x370 with 1 Axes>",
      "image/png": "[encoded data removed]"
     },
     "metadata": {},
     "output_type": "display_data"
    }
   ],
   "source": [
    "fig = plt.subplots(figsize=(3.7, 3.7))\n",
    "\n",
    "# Count the occurrences of each cell type\n",
    "counts = data['cellTypeName'].value_counts().reset_index()\n",
    "\n",
    "# Rename the columns\n",
    "counts.columns = ['cellTypeName', 'count']\n",
    "\n",
    "# Plot the pie chart\n",
    "plt.pie(counts['count'], labels=counts['cellTypeName'], autopct=lambda x: '{:.0f}\\n({:.1f}%)'.format(x * sum(counts['count']) / 100, x))\n",
    "\n",
    "# Set the title of the plot\n",
    "plt.title('Distribution of Cell Types')\n",
    "\n",
    "# Show the plot\n",
    "plt.show()"
   ]
  },
  {
   "cell_type": "markdown",
   "metadata": {
    "id": "QC16DGezeALs"
   },
   "source": [
    "From the pie chart above, we can see that the number of Epithelial cells accounts for the majority with 41.2% compared to other cell types such as inflammatory (25.7%), and fibroblast (19.1%), while others cell type only accounts for 14.0% of the total."
   ]
  },
  {
   "cell_type": "code",
   "execution_count": 15,
   "metadata": {
    "colab": {
     "base_uri": "https://localhost:8080/",
     "height": 472
    },
    "id": "GnJ7z2plCJ9Q",
    "outputId": "ee83731c-cfe6-483f-c034-78ec1d110ca5",
    "ExecuteTime": {
     "end_time": "2023-05-11T03:56:56.236917Z",
     "start_time": "2023-05-11T03:56:55.921306600Z"
    }
   },
   "outputs": [
    {
     "data": {
      "text/plain": "<Figure size 640x480 with 1 Axes>",
      "image/png": "[encoded data removed]"
     },
     "metadata": {},
     "output_type": "display_data"
    }
   ],
   "source": [
    "# Group the dataframe by Cell_Type and isCancerous, then calculate the count of each group\n",
    "counts = data.groupby(['cellTypeName', 'isCancerous']).size().reset_index(name='Count')\n",
    "\n",
    "# Plot the distribution of cell types by isCancerous attribute\n",
    "ax = sns.barplot(data=counts, x='cellTypeName', y='Count', hue='isCancerous')\n",
    "\n",
    "# Add text labels to the bars with the count of each cell type\n",
    "for p in ax.patches:\n",
    "    x = p.get_x() + p.get_width() / 2\n",
    "    y = p.get_height()\n",
    "    ax.annotate(y, (x, y), ha='center', va='bottom', fontsize=10)\n",
    "\n",
    "# Set the title of the plot\n",
    "plt.title('Distribution of Cell Types by isCancerous')\n",
    "\n",
    "# Set the x label\n",
    "plt.xlabel('Cell Type')\n",
    "\n",
    "# Set the y label\n",
    "plt.ylabel('Count')\n",
    "ax.set_ylim([0, 6000])\n",
    "\n",
    "# Show the plot\n",
    "plt.show()"
   ]
  },
  {
   "cell_type": "markdown",
   "metadata": {
    "id": "n76CWfDaDldr"
   },
   "source": [
    "**Observation:**\n",
    "* From the chart above, we can see that all cancerous cells have only one type which is Epithelial.\n",
    "* The number of epithelial cell is also equal to the number of the cancerous cell in the dataset which is both 4079.\n",
    "\n",
    "➡️ All epithelial cells are cancerous cell.\n",
    "\n",
    "💡 From this exploration, we can utilize the extra dataset, which only provides the label for isCancerous, to enhance the cell-type classification model later on Task 2. We can assume that all cancerous cells in the extra dataset belong to the Epithelial cell type.\n",
    "\n",
    "Next, we can check for the extra dataset to have a better understanding before utilizing it for Task 1 (which is classifying a cell is cancerous or not)."
   ]
  },
  {
   "cell_type": "markdown",
   "metadata": {
    "id": "puJ2ColqP0o-"
   },
   "source": [
    "**Extra dataset “Data labels extraData.csv” exploration.**"
   ]
  },
  {
   "cell_type": "code",
   "execution_count": 16,
   "metadata": {
    "colab": {
     "base_uri": "https://localhost:8080/",
     "height": 333
    },
    "id": "7_fXa-TyQRkz",
    "outputId": "253f718f-ed9f-4538-cbac-45c483ac31d4",
    "ExecuteTime": {
     "end_time": "2023-05-11T03:56:56.316453500Z",
     "start_time": "2023-05-11T03:56:56.168921800Z"
    }
   },
   "outputs": [
    {
     "data": {
      "text/plain": "<Figure size 300x300 with 1 Axes>",
      "image/png": "[encoded data removed]"
     },
     "metadata": {},
     "output_type": "display_data"
    }
   ],
   "source": [
    "fig = plt.subplots(figsize=(3, 3))\n",
    "ax = sns.countplot(x ='isCancerous', data = data_extra)\n",
    "ax.set_xticklabels(ax.get_xticklabels(),rotation=0)\n",
    "ax.set_ylim([0, data.shape[0]])\n",
    "ax.bar_label(ax.containers[0])\n",
    "plt.title('No. of Cancerous Cell vs Non-Cancerous Cell in ExtraDataset')\n",
    "plt.show()"
   ]
  },
  {
   "cell_type": "markdown",
   "metadata": {
    "id": "QjI51UQehljm"
   },
   "source": [
    "**Observation:** The extra dataset has a heavy imbalance between the 2 classes than the main dataset.\n",
    "\n",
    "Since the datasets are imbalance we must be careful when choose the proper evaluation metrics later on."
   ]
  },
  {
   "cell_type": "markdown",
   "metadata": {
    "id": "ftmLeZ2qho2i"
   },
   "source": [
    "### Viewing Image Sampling"
   ]
  },
  {
   "cell_type": "markdown",
   "metadata": {
    "id": "dP6oP6YUkZCs"
   },
   "source": [
    "1. Distribution of image sizes\n"
   ]
  },
  {
   "cell_type": "code",
   "execution_count": 17,
   "outputs": [],
   "source": [
    "# Set the path to the image directory\n",
    "image_dir = './dataset/patch_images/'\n",
    "if InColab:\n",
    "    image_dir= '/dataset/patch_images/'"
   ],
   "metadata": {
    "collapsed": false,
    "ExecuteTime": {
     "end_time": "2023-05-11T04:30:09.932514300Z",
     "start_time": "2023-05-11T04:30:09.909521300Z"
    }
   }
  },
  {
   "cell_type": "code",
   "execution_count": 16,
   "metadata": {
    "colab": {
     "base_uri": "https://localhost:8080/",
     "height": 472
    },
    "id": "EvKTV3uRnwh_",
    "outputId": "0e7f4ae7-a941-4623-9f28-ae63d2bd19dd",
    "ExecuteTime": {
     "end_time": "2023-05-11T04:29:43.341901300Z",
     "start_time": "2023-05-11T04:28:54.353587200Z"
    }
   },
   "outputs": [
    {
     "ename": "KeyboardInterrupt",
     "evalue": "",
     "output_type": "error",
     "traceback": [
      "\u001B[1;31m---------------------------------------------------------------------------\u001B[0m",
      "\u001B[1;31mKeyboardInterrupt\u001B[0m                         Traceback (most recent call last)",
      "Cell \u001B[1;32mIn[16], line 18\u001B[0m\n\u001B[0;32m     15\u001B[0m         image_sizes\u001B[38;5;241m.\u001B[39mappend(img\u001B[38;5;241m.\u001B[39msize)\n\u001B[0;32m     17\u001B[0m \u001B[38;5;66;03m# Plot the image size distribution\u001B[39;00m\n\u001B[1;32m---> 18\u001B[0m \u001B[43mplt\u001B[49m\u001B[38;5;241;43m.\u001B[39;49m\u001B[43mhist\u001B[49m\u001B[43m(\u001B[49m\u001B[43mimage_sizes\u001B[49m\u001B[43m,\u001B[49m\u001B[43m \u001B[49m\u001B[43mbins\u001B[49m\u001B[38;5;241;43m=\u001B[39;49m\u001B[38;5;241;43m15\u001B[39;49m\u001B[43m)\u001B[49m\n\u001B[0;32m     19\u001B[0m plt\u001B[38;5;241m.\u001B[39mxlabel(\u001B[38;5;124m'\u001B[39m\u001B[38;5;124mImage Size\u001B[39m\u001B[38;5;124m'\u001B[39m)\n\u001B[0;32m     20\u001B[0m plt\u001B[38;5;241m.\u001B[39mylabel(\u001B[38;5;124m'\u001B[39m\u001B[38;5;124mFrequency\u001B[39m\u001B[38;5;124m'\u001B[39m)\n",
      "File \u001B[1;32m~\\.conda\\envs\\practicalDataScience\\lib\\site-packages\\matplotlib\\pyplot.py:2645\u001B[0m, in \u001B[0;36mhist\u001B[1;34m(x, bins, range, density, weights, cumulative, bottom, histtype, align, orientation, rwidth, log, color, label, stacked, data, **kwargs)\u001B[0m\n\u001B[0;32m   2639\u001B[0m \u001B[38;5;129m@_copy_docstring_and_deprecators\u001B[39m(Axes\u001B[38;5;241m.\u001B[39mhist)\n\u001B[0;32m   2640\u001B[0m \u001B[38;5;28;01mdef\u001B[39;00m \u001B[38;5;21mhist\u001B[39m(\n\u001B[0;32m   2641\u001B[0m         x, bins\u001B[38;5;241m=\u001B[39m\u001B[38;5;28;01mNone\u001B[39;00m, \u001B[38;5;28mrange\u001B[39m\u001B[38;5;241m=\u001B[39m\u001B[38;5;28;01mNone\u001B[39;00m, density\u001B[38;5;241m=\u001B[39m\u001B[38;5;28;01mFalse\u001B[39;00m, weights\u001B[38;5;241m=\u001B[39m\u001B[38;5;28;01mNone\u001B[39;00m,\n\u001B[0;32m   2642\u001B[0m         cumulative\u001B[38;5;241m=\u001B[39m\u001B[38;5;28;01mFalse\u001B[39;00m, bottom\u001B[38;5;241m=\u001B[39m\u001B[38;5;28;01mNone\u001B[39;00m, histtype\u001B[38;5;241m=\u001B[39m\u001B[38;5;124m'\u001B[39m\u001B[38;5;124mbar\u001B[39m\u001B[38;5;124m'\u001B[39m, align\u001B[38;5;241m=\u001B[39m\u001B[38;5;124m'\u001B[39m\u001B[38;5;124mmid\u001B[39m\u001B[38;5;124m'\u001B[39m,\n\u001B[0;32m   2643\u001B[0m         orientation\u001B[38;5;241m=\u001B[39m\u001B[38;5;124m'\u001B[39m\u001B[38;5;124mvertical\u001B[39m\u001B[38;5;124m'\u001B[39m, rwidth\u001B[38;5;241m=\u001B[39m\u001B[38;5;28;01mNone\u001B[39;00m, log\u001B[38;5;241m=\u001B[39m\u001B[38;5;28;01mFalse\u001B[39;00m, color\u001B[38;5;241m=\u001B[39m\u001B[38;5;28;01mNone\u001B[39;00m,\n\u001B[0;32m   2644\u001B[0m         label\u001B[38;5;241m=\u001B[39m\u001B[38;5;28;01mNone\u001B[39;00m, stacked\u001B[38;5;241m=\u001B[39m\u001B[38;5;28;01mFalse\u001B[39;00m, \u001B[38;5;241m*\u001B[39m, data\u001B[38;5;241m=\u001B[39m\u001B[38;5;28;01mNone\u001B[39;00m, \u001B[38;5;241m*\u001B[39m\u001B[38;5;241m*\u001B[39mkwargs):\n\u001B[1;32m-> 2645\u001B[0m     \u001B[38;5;28;01mreturn\u001B[39;00m gca()\u001B[38;5;241m.\u001B[39mhist(\n\u001B[0;32m   2646\u001B[0m         x, bins\u001B[38;5;241m=\u001B[39mbins, \u001B[38;5;28mrange\u001B[39m\u001B[38;5;241m=\u001B[39m\u001B[38;5;28mrange\u001B[39m, density\u001B[38;5;241m=\u001B[39mdensity, weights\u001B[38;5;241m=\u001B[39mweights,\n\u001B[0;32m   2647\u001B[0m         cumulative\u001B[38;5;241m=\u001B[39mcumulative, bottom\u001B[38;5;241m=\u001B[39mbottom, histtype\u001B[38;5;241m=\u001B[39mhisttype,\n\u001B[0;32m   2648\u001B[0m         align\u001B[38;5;241m=\u001B[39malign, orientation\u001B[38;5;241m=\u001B[39morientation, rwidth\u001B[38;5;241m=\u001B[39mrwidth, log\u001B[38;5;241m=\u001B[39mlog,\n\u001B[0;32m   2649\u001B[0m         color\u001B[38;5;241m=\u001B[39mcolor, label\u001B[38;5;241m=\u001B[39mlabel, stacked\u001B[38;5;241m=\u001B[39mstacked,\n\u001B[0;32m   2650\u001B[0m         \u001B[38;5;241m*\u001B[39m\u001B[38;5;241m*\u001B[39m({\u001B[38;5;124m\"\u001B[39m\u001B[38;5;124mdata\u001B[39m\u001B[38;5;124m\"\u001B[39m: data} \u001B[38;5;28;01mif\u001B[39;00m data \u001B[38;5;129;01mis\u001B[39;00m \u001B[38;5;129;01mnot\u001B[39;00m \u001B[38;5;28;01mNone\u001B[39;00m \u001B[38;5;28;01melse\u001B[39;00m {}), \u001B[38;5;241m*\u001B[39m\u001B[38;5;241m*\u001B[39mkwargs)\n",
      "File \u001B[1;32m~\\.conda\\envs\\practicalDataScience\\lib\\site-packages\\matplotlib\\__init__.py:1442\u001B[0m, in \u001B[0;36m_preprocess_data.<locals>.inner\u001B[1;34m(ax, data, *args, **kwargs)\u001B[0m\n\u001B[0;32m   1439\u001B[0m \u001B[38;5;129m@functools\u001B[39m\u001B[38;5;241m.\u001B[39mwraps(func)\n\u001B[0;32m   1440\u001B[0m \u001B[38;5;28;01mdef\u001B[39;00m \u001B[38;5;21minner\u001B[39m(ax, \u001B[38;5;241m*\u001B[39margs, data\u001B[38;5;241m=\u001B[39m\u001B[38;5;28;01mNone\u001B[39;00m, \u001B[38;5;241m*\u001B[39m\u001B[38;5;241m*\u001B[39mkwargs):\n\u001B[0;32m   1441\u001B[0m     \u001B[38;5;28;01mif\u001B[39;00m data \u001B[38;5;129;01mis\u001B[39;00m \u001B[38;5;28;01mNone\u001B[39;00m:\n\u001B[1;32m-> 1442\u001B[0m         \u001B[38;5;28;01mreturn\u001B[39;00m func(ax, \u001B[38;5;241m*\u001B[39m\u001B[38;5;28mmap\u001B[39m(sanitize_sequence, args), \u001B[38;5;241m*\u001B[39m\u001B[38;5;241m*\u001B[39mkwargs)\n\u001B[0;32m   1444\u001B[0m     bound \u001B[38;5;241m=\u001B[39m new_sig\u001B[38;5;241m.\u001B[39mbind(ax, \u001B[38;5;241m*\u001B[39margs, \u001B[38;5;241m*\u001B[39m\u001B[38;5;241m*\u001B[39mkwargs)\n\u001B[0;32m   1445\u001B[0m     auto_label \u001B[38;5;241m=\u001B[39m (bound\u001B[38;5;241m.\u001B[39marguments\u001B[38;5;241m.\u001B[39mget(label_namer)\n\u001B[0;32m   1446\u001B[0m                   \u001B[38;5;129;01mor\u001B[39;00m bound\u001B[38;5;241m.\u001B[39mkwargs\u001B[38;5;241m.\u001B[39mget(label_namer))\n",
      "File \u001B[1;32m~\\.conda\\envs\\practicalDataScience\\lib\\site-packages\\matplotlib\\axes\\_axes.py:6850\u001B[0m, in \u001B[0;36mAxes.hist\u001B[1;34m(self, x, bins, range, density, weights, cumulative, bottom, histtype, align, orientation, rwidth, log, color, label, stacked, **kwargs)\u001B[0m\n\u001B[0;32m   6848\u001B[0m \u001B[38;5;28;01melse\u001B[39;00m:\n\u001B[0;32m   6849\u001B[0m     height \u001B[38;5;241m=\u001B[39m top\n\u001B[1;32m-> 6850\u001B[0m bars \u001B[38;5;241m=\u001B[39m _barfunc(bins[:\u001B[38;5;241m-\u001B[39m\u001B[38;5;241m1\u001B[39m]\u001B[38;5;241m+\u001B[39mboffset, height, width,\n\u001B[0;32m   6851\u001B[0m                 align\u001B[38;5;241m=\u001B[39m\u001B[38;5;124m'\u001B[39m\u001B[38;5;124mcenter\u001B[39m\u001B[38;5;124m'\u001B[39m, log\u001B[38;5;241m=\u001B[39mlog,\n\u001B[0;32m   6852\u001B[0m                 color\u001B[38;5;241m=\u001B[39mcolor, \u001B[38;5;241m*\u001B[39m\u001B[38;5;241m*\u001B[39m{bottom_kwarg: bottom})\n\u001B[0;32m   6853\u001B[0m patches\u001B[38;5;241m.\u001B[39mappend(bars)\n\u001B[0;32m   6854\u001B[0m \u001B[38;5;28;01mif\u001B[39;00m stacked:\n",
      "File \u001B[1;32m~\\.conda\\envs\\practicalDataScience\\lib\\site-packages\\matplotlib\\__init__.py:1442\u001B[0m, in \u001B[0;36m_preprocess_data.<locals>.inner\u001B[1;34m(ax, data, *args, **kwargs)\u001B[0m\n\u001B[0;32m   1439\u001B[0m \u001B[38;5;129m@functools\u001B[39m\u001B[38;5;241m.\u001B[39mwraps(func)\n\u001B[0;32m   1440\u001B[0m \u001B[38;5;28;01mdef\u001B[39;00m \u001B[38;5;21minner\u001B[39m(ax, \u001B[38;5;241m*\u001B[39margs, data\u001B[38;5;241m=\u001B[39m\u001B[38;5;28;01mNone\u001B[39;00m, \u001B[38;5;241m*\u001B[39m\u001B[38;5;241m*\u001B[39mkwargs):\n\u001B[0;32m   1441\u001B[0m     \u001B[38;5;28;01mif\u001B[39;00m data \u001B[38;5;129;01mis\u001B[39;00m \u001B[38;5;28;01mNone\u001B[39;00m:\n\u001B[1;32m-> 1442\u001B[0m         \u001B[38;5;28;01mreturn\u001B[39;00m func(ax, \u001B[38;5;241m*\u001B[39m\u001B[38;5;28mmap\u001B[39m(sanitize_sequence, args), \u001B[38;5;241m*\u001B[39m\u001B[38;5;241m*\u001B[39mkwargs)\n\u001B[0;32m   1444\u001B[0m     bound \u001B[38;5;241m=\u001B[39m new_sig\u001B[38;5;241m.\u001B[39mbind(ax, \u001B[38;5;241m*\u001B[39margs, \u001B[38;5;241m*\u001B[39m\u001B[38;5;241m*\u001B[39mkwargs)\n\u001B[0;32m   1445\u001B[0m     auto_label \u001B[38;5;241m=\u001B[39m (bound\u001B[38;5;241m.\u001B[39marguments\u001B[38;5;241m.\u001B[39mget(label_namer)\n\u001B[0;32m   1446\u001B[0m                   \u001B[38;5;129;01mor\u001B[39;00m bound\u001B[38;5;241m.\u001B[39mkwargs\u001B[38;5;241m.\u001B[39mget(label_namer))\n",
      "File \u001B[1;32m~\\.conda\\envs\\practicalDataScience\\lib\\site-packages\\matplotlib\\axes\\_axes.py:2494\u001B[0m, in \u001B[0;36mAxes.bar\u001B[1;34m(self, x, height, width, bottom, align, **kwargs)\u001B[0m\n\u001B[0;32m   2492\u001B[0m     \u001B[38;5;28;01melse\u001B[39;00m:  \u001B[38;5;66;03m# horizontal\u001B[39;00m\n\u001B[0;32m   2493\u001B[0m         r\u001B[38;5;241m.\u001B[39msticky_edges\u001B[38;5;241m.\u001B[39mx\u001B[38;5;241m.\u001B[39mappend(l)\n\u001B[1;32m-> 2494\u001B[0m     \u001B[38;5;28;43mself\u001B[39;49m\u001B[38;5;241;43m.\u001B[39;49m\u001B[43madd_patch\u001B[49m\u001B[43m(\u001B[49m\u001B[43mr\u001B[49m\u001B[43m)\u001B[49m\n\u001B[0;32m   2495\u001B[0m     patches\u001B[38;5;241m.\u001B[39mappend(r)\n\u001B[0;32m   2497\u001B[0m \u001B[38;5;28;01mif\u001B[39;00m xerr \u001B[38;5;129;01mis\u001B[39;00m \u001B[38;5;129;01mnot\u001B[39;00m \u001B[38;5;28;01mNone\u001B[39;00m \u001B[38;5;129;01mor\u001B[39;00m yerr \u001B[38;5;129;01mis\u001B[39;00m \u001B[38;5;129;01mnot\u001B[39;00m \u001B[38;5;28;01mNone\u001B[39;00m:\n",
      "File \u001B[1;32m~\\.conda\\envs\\practicalDataScience\\lib\\site-packages\\matplotlib\\axes\\_base.py:2379\u001B[0m, in \u001B[0;36m_AxesBase.add_patch\u001B[1;34m(self, p)\u001B[0m\n\u001B[0;32m   2377\u001B[0m \u001B[38;5;28;01mif\u001B[39;00m p\u001B[38;5;241m.\u001B[39mget_clip_path() \u001B[38;5;129;01mis\u001B[39;00m \u001B[38;5;28;01mNone\u001B[39;00m:\n\u001B[0;32m   2378\u001B[0m     p\u001B[38;5;241m.\u001B[39mset_clip_path(\u001B[38;5;28mself\u001B[39m\u001B[38;5;241m.\u001B[39mpatch)\n\u001B[1;32m-> 2379\u001B[0m \u001B[38;5;28;43mself\u001B[39;49m\u001B[38;5;241;43m.\u001B[39;49m\u001B[43m_update_patch_limits\u001B[49m\u001B[43m(\u001B[49m\u001B[43mp\u001B[49m\u001B[43m)\u001B[49m\n\u001B[0;32m   2380\u001B[0m \u001B[38;5;28mself\u001B[39m\u001B[38;5;241m.\u001B[39m_children\u001B[38;5;241m.\u001B[39mappend(p)\n\u001B[0;32m   2381\u001B[0m p\u001B[38;5;241m.\u001B[39m_remove_method \u001B[38;5;241m=\u001B[39m \u001B[38;5;28mself\u001B[39m\u001B[38;5;241m.\u001B[39m_children\u001B[38;5;241m.\u001B[39mremove\n",
      "File \u001B[1;32m~\\.conda\\envs\\practicalDataScience\\lib\\site-packages\\matplotlib\\axes\\_base.py:2411\u001B[0m, in \u001B[0;36m_AxesBase._update_patch_limits\u001B[1;34m(self, patch)\u001B[0m\n\u001B[0;32m   2408\u001B[0m     vertices \u001B[38;5;241m=\u001B[39m np\u001B[38;5;241m.\u001B[39mrow_stack(vertices)\n\u001B[0;32m   2410\u001B[0m patch_trf \u001B[38;5;241m=\u001B[39m patch\u001B[38;5;241m.\u001B[39mget_transform()\n\u001B[1;32m-> 2411\u001B[0m updatex, updatey \u001B[38;5;241m=\u001B[39m \u001B[43mpatch_trf\u001B[49m\u001B[38;5;241;43m.\u001B[39;49m\u001B[43mcontains_branch_seperately\u001B[49m\u001B[43m(\u001B[49m\u001B[38;5;28;43mself\u001B[39;49m\u001B[38;5;241;43m.\u001B[39;49m\u001B[43mtransData\u001B[49m\u001B[43m)\u001B[49m\n\u001B[0;32m   2412\u001B[0m \u001B[38;5;28;01mif\u001B[39;00m \u001B[38;5;129;01mnot\u001B[39;00m (updatex \u001B[38;5;129;01mor\u001B[39;00m updatey):\n\u001B[0;32m   2413\u001B[0m     \u001B[38;5;28;01mreturn\u001B[39;00m\n",
      "File \u001B[1;32m~\\.conda\\envs\\practicalDataScience\\lib\\site-packages\\matplotlib\\transforms.py:1411\u001B[0m, in \u001B[0;36mTransform.contains_branch_seperately\u001B[1;34m(self, other_transform)\u001B[0m\n\u001B[0;32m   1407\u001B[0m     \u001B[38;5;28;01mraise\u001B[39;00m \u001B[38;5;167;01mValueError\u001B[39;00m(\u001B[38;5;124m'\u001B[39m\u001B[38;5;124mcontains_branch_seperately only supports \u001B[39m\u001B[38;5;124m'\u001B[39m\n\u001B[0;32m   1408\u001B[0m                      \u001B[38;5;124m'\u001B[39m\u001B[38;5;124mtransforms with 2 output dimensions\u001B[39m\u001B[38;5;124m'\u001B[39m)\n\u001B[0;32m   1409\u001B[0m \u001B[38;5;66;03m# for a non-blended transform each separate dimension is the same, so\u001B[39;00m\n\u001B[0;32m   1410\u001B[0m \u001B[38;5;66;03m# just return the appropriate shape.\u001B[39;00m\n\u001B[1;32m-> 1411\u001B[0m \u001B[38;5;28;01mreturn\u001B[39;00m [\u001B[38;5;28;43mself\u001B[39;49m\u001B[38;5;241;43m.\u001B[39;49m\u001B[43mcontains_branch\u001B[49m\u001B[43m(\u001B[49m\u001B[43mother_transform\u001B[49m\u001B[43m)\u001B[49m] \u001B[38;5;241m*\u001B[39m \u001B[38;5;241m2\u001B[39m\n",
      "File \u001B[1;32m~\\.conda\\envs\\practicalDataScience\\lib\\site-packages\\matplotlib\\transforms.py:1390\u001B[0m, in \u001B[0;36mTransform.contains_branch\u001B[1;34m(self, other)\u001B[0m\n\u001B[0;32m   1387\u001B[0m     \u001B[38;5;28;01mreturn\u001B[39;00m \u001B[38;5;28;01mFalse\u001B[39;00m\n\u001B[0;32m   1389\u001B[0m \u001B[38;5;66;03m# check that a subtree is equal to other (starting from self)\u001B[39;00m\n\u001B[1;32m-> 1390\u001B[0m \u001B[38;5;28;01mfor\u001B[39;00m _, sub_tree \u001B[38;5;129;01min\u001B[39;00m \u001B[38;5;28mself\u001B[39m\u001B[38;5;241m.\u001B[39m_iter_break_from_left_to_right():\n\u001B[0;32m   1391\u001B[0m     \u001B[38;5;28;01mif\u001B[39;00m sub_tree \u001B[38;5;241m==\u001B[39m other:\n\u001B[0;32m   1392\u001B[0m         \u001B[38;5;28;01mreturn\u001B[39;00m \u001B[38;5;28;01mTrue\u001B[39;00m\n",
      "File \u001B[1;32m~\\.conda\\envs\\practicalDataScience\\lib\\site-packages\\matplotlib\\transforms.py:2400\u001B[0m, in \u001B[0;36mCompositeGenericTransform._iter_break_from_left_to_right\u001B[1;34m(self)\u001B[0m\n\u001B[0;32m   2398\u001B[0m \u001B[38;5;28;01mdef\u001B[39;00m \u001B[38;5;21m_iter_break_from_left_to_right\u001B[39m(\u001B[38;5;28mself\u001B[39m):\n\u001B[0;32m   2399\u001B[0m     \u001B[38;5;28;01mfor\u001B[39;00m left, right \u001B[38;5;129;01min\u001B[39;00m \u001B[38;5;28mself\u001B[39m\u001B[38;5;241m.\u001B[39m_a\u001B[38;5;241m.\u001B[39m_iter_break_from_left_to_right():\n\u001B[1;32m-> 2400\u001B[0m         \u001B[38;5;28;01myield\u001B[39;00m left, \u001B[43mright\u001B[49m\u001B[43m \u001B[49m\u001B[38;5;241;43m+\u001B[39;49m\u001B[43m \u001B[49m\u001B[38;5;28;43mself\u001B[39;49m\u001B[38;5;241;43m.\u001B[39;49m\u001B[43m_b\u001B[49m\n\u001B[0;32m   2401\u001B[0m     \u001B[38;5;28;01mfor\u001B[39;00m left, right \u001B[38;5;129;01min\u001B[39;00m \u001B[38;5;28mself\u001B[39m\u001B[38;5;241m.\u001B[39m_b\u001B[38;5;241m.\u001B[39m_iter_break_from_left_to_right():\n\u001B[0;32m   2402\u001B[0m         \u001B[38;5;28;01myield\u001B[39;00m \u001B[38;5;28mself\u001B[39m\u001B[38;5;241m.\u001B[39m_a \u001B[38;5;241m+\u001B[39m left, right\n",
      "File \u001B[1;32m~\\.conda\\envs\\practicalDataScience\\lib\\site-packages\\matplotlib\\transforms.py:1342\u001B[0m, in \u001B[0;36mTransform.__add__\u001B[1;34m(self, other)\u001B[0m\n\u001B[0;32m   1335\u001B[0m \u001B[38;5;28;01mdef\u001B[39;00m \u001B[38;5;21m__add__\u001B[39m(\u001B[38;5;28mself\u001B[39m, other):\n\u001B[0;32m   1336\u001B[0m \u001B[38;5;250m    \u001B[39m\u001B[38;5;124;03m\"\"\"\u001B[39;00m\n\u001B[0;32m   1337\u001B[0m \u001B[38;5;124;03m    Compose two transforms together so that *self* is followed by *other*.\u001B[39;00m\n\u001B[0;32m   1338\u001B[0m \n\u001B[0;32m   1339\u001B[0m \u001B[38;5;124;03m    ``A + B`` returns a transform ``C`` so that\u001B[39;00m\n\u001B[0;32m   1340\u001B[0m \u001B[38;5;124;03m    ``C.transform(x) == B.transform(A.transform(x))``.\u001B[39;00m\n\u001B[0;32m   1341\u001B[0m \u001B[38;5;124;03m    \"\"\"\u001B[39;00m\n\u001B[1;32m-> 1342\u001B[0m     \u001B[38;5;28;01mreturn\u001B[39;00m (\u001B[43mcomposite_transform_factory\u001B[49m\u001B[43m(\u001B[49m\u001B[38;5;28;43mself\u001B[39;49m\u001B[43m,\u001B[49m\u001B[43m \u001B[49m\u001B[43mother\u001B[49m\u001B[43m)\u001B[49m\n\u001B[0;32m   1343\u001B[0m             \u001B[38;5;28;01mif\u001B[39;00m \u001B[38;5;28misinstance\u001B[39m(other, Transform) \u001B[38;5;28;01melse\u001B[39;00m\n\u001B[0;32m   1344\u001B[0m             \u001B[38;5;28mNotImplemented\u001B[39m)\n",
      "File \u001B[1;32m~\\.conda\\envs\\practicalDataScience\\lib\\site-packages\\matplotlib\\transforms.py:2527\u001B[0m, in \u001B[0;36mcomposite_transform_factory\u001B[1;34m(a, b)\u001B[0m\n\u001B[0;32m   2525\u001B[0m \u001B[38;5;28;01melif\u001B[39;00m \u001B[38;5;28misinstance\u001B[39m(a, Affine2D) \u001B[38;5;129;01mand\u001B[39;00m \u001B[38;5;28misinstance\u001B[39m(b, Affine2D):\n\u001B[0;32m   2526\u001B[0m     \u001B[38;5;28;01mreturn\u001B[39;00m CompositeAffine2D(a, b)\n\u001B[1;32m-> 2527\u001B[0m \u001B[38;5;28;01mreturn\u001B[39;00m \u001B[43mCompositeGenericTransform\u001B[49m\u001B[43m(\u001B[49m\u001B[43ma\u001B[49m\u001B[43m,\u001B[49m\u001B[43m \u001B[49m\u001B[43mb\u001B[49m\u001B[43m)\u001B[49m\n",
      "File \u001B[1;32m~\\.conda\\envs\\practicalDataScience\\lib\\site-packages\\matplotlib\\transforms.py:2365\u001B[0m, in \u001B[0;36mCompositeGenericTransform.__init__\u001B[1;34m(self, a, b, **kwargs)\u001B[0m\n\u001B[0;32m   2363\u001B[0m \u001B[38;5;28mself\u001B[39m\u001B[38;5;241m.\u001B[39m_a \u001B[38;5;241m=\u001B[39m a\n\u001B[0;32m   2364\u001B[0m \u001B[38;5;28mself\u001B[39m\u001B[38;5;241m.\u001B[39m_b \u001B[38;5;241m=\u001B[39m b\n\u001B[1;32m-> 2365\u001B[0m \u001B[38;5;28;43mself\u001B[39;49m\u001B[38;5;241;43m.\u001B[39;49m\u001B[43mset_children\u001B[49m\u001B[43m(\u001B[49m\u001B[43ma\u001B[49m\u001B[43m,\u001B[49m\u001B[43m \u001B[49m\u001B[43mb\u001B[49m\u001B[43m)\u001B[49m\n",
      "File \u001B[1;32m~\\.conda\\envs\\practicalDataScience\\lib\\site-packages\\matplotlib\\transforms.py:208\u001B[0m, in \u001B[0;36mTransformNode.set_children\u001B[1;34m(self, *children)\u001B[0m\n\u001B[0;32m    201\u001B[0m \u001B[38;5;66;03m# Parents are stored as weak references, so that if the\u001B[39;00m\n\u001B[0;32m    202\u001B[0m \u001B[38;5;66;03m# parents are destroyed, references from the children won't\u001B[39;00m\n\u001B[0;32m    203\u001B[0m \u001B[38;5;66;03m# keep them alive.\u001B[39;00m\n\u001B[0;32m    204\u001B[0m \u001B[38;5;28;01mfor\u001B[39;00m child \u001B[38;5;129;01min\u001B[39;00m children:\n\u001B[0;32m    205\u001B[0m     \u001B[38;5;66;03m# Use weak references so this dictionary won't keep obsolete nodes\u001B[39;00m\n\u001B[0;32m    206\u001B[0m     \u001B[38;5;66;03m# alive; the callback deletes the dictionary entry. This is a\u001B[39;00m\n\u001B[0;32m    207\u001B[0m     \u001B[38;5;66;03m# performance improvement over using WeakValueDictionary.\u001B[39;00m\n\u001B[1;32m--> 208\u001B[0m     ref \u001B[38;5;241m=\u001B[39m \u001B[43mweakref\u001B[49m\u001B[38;5;241;43m.\u001B[39;49m\u001B[43mref\u001B[49m\u001B[43m(\u001B[49m\n\u001B[0;32m    209\u001B[0m \u001B[43m        \u001B[49m\u001B[38;5;28;43mself\u001B[39;49m\u001B[43m,\u001B[49m\u001B[43m \u001B[49m\u001B[38;5;28;43;01mlambda\u001B[39;49;00m\u001B[43m \u001B[49m\u001B[43m_\u001B[49m\u001B[43m,\u001B[49m\u001B[43m \u001B[49m\u001B[43mpop\u001B[49m\u001B[38;5;241;43m=\u001B[39;49m\u001B[43mchild\u001B[49m\u001B[38;5;241;43m.\u001B[39;49m\u001B[43m_parents\u001B[49m\u001B[38;5;241;43m.\u001B[39;49m\u001B[43mpop\u001B[49m\u001B[43m,\u001B[49m\u001B[43m \u001B[49m\u001B[43mk\u001B[49m\u001B[38;5;241;43m=\u001B[39;49m\u001B[38;5;28;43mid\u001B[39;49m\u001B[43m(\u001B[49m\u001B[38;5;28;43mself\u001B[39;49m\u001B[43m)\u001B[49m\u001B[43m:\u001B[49m\u001B[43m \u001B[49m\u001B[43mpop\u001B[49m\u001B[43m(\u001B[49m\u001B[43mk\u001B[49m\u001B[43m)\u001B[49m\u001B[43m)\u001B[49m\n\u001B[0;32m    210\u001B[0m     child\u001B[38;5;241m.\u001B[39m_parents[\u001B[38;5;28mid\u001B[39m(\u001B[38;5;28mself\u001B[39m)] \u001B[38;5;241m=\u001B[39m ref\n",
      "\u001B[1;31mKeyboardInterrupt\u001B[0m: "
     ]
    },
    {
     "data": {
      "text/plain": "<Figure size 640x480 with 1 Axes>",
      "image/png": "[encoded data removed]"
     },
     "metadata": {},
     "output_type": "display_data"
    }
   ],
   "source": [
    "from PIL import Image\n",
    "\n",
    "# Create a list to store the image sizes\n",
    "image_sizes = []\n",
    "\n",
    "# Iterate through the dataset and get the size of each image\n",
    "for img_name in data['ImageName']:\n",
    "    img_path = os.path.join(image_dir, img_name)\n",
    "    with Image.open(img_path) as img:\n",
    "        image_sizes.append(img.size)\n",
    "\n",
    "# Plot the image size distribution\n",
    "plt.hist(image_sizes, bins=15)\n",
    "plt.xlabel('Image Size')\n",
    "plt.ylabel('Frequency')\n",
    "plt.title('Image Size Distribution')\n",
    "plt.show()"
   ]
  },
  {
   "cell_type": "markdown",
   "metadata": {
    "id": "H_4eeL4Kg20S"
   },
   "source": [
    "The image sizes seem to have the same distribution. Therefore, we do not need to resize the images. Now, we can plot some images for checking it in more detail."
   ]
  },
  {
   "cell_type": "markdown",
   "metadata": {
    "id": "keis0tvzqWrG"
   },
   "source": [
    "2. Plotting some images:\n",
    "\n",
    "We can plot some random images of each cell type to get an overview look of them. Also, we can check for any Mislabeling in our image data.\n"
   ]
  },
  {
   "cell_type": "code",
   "execution_count": 20,
   "metadata": {
    "colab": {
     "base_uri": "https://localhost:8080/",
     "height": 1000
    },
    "id": "EUN4gjJnxC0Q",
    "outputId": "db540137-e86c-4dcd-ff2b-dfe4b5a261b0",
    "ExecuteTime": {
     "end_time": "2023-05-11T04:03:12.091963200Z",
     "start_time": "2023-05-11T04:03:10.728870200Z"
    }
   },
   "outputs": [
    {
     "data": {
      "text/plain": "<Figure size 800x400 with 5 Axes>",
      "image/png": "[encoded data removed]"
     },
     "metadata": {},
     "output_type": "display_data"
    },
    {
     "data": {
      "text/plain": "<Figure size 800x400 with 5 Axes>",
      "image/png": "[encoded data removed]"
     },
     "metadata": {},
     "output_type": "display_data"
    },
    {
     "data": {
      "text/plain": "<Figure size 800x400 with 5 Axes>",
      "image/png": "[encoded data removed]"
     },
     "metadata": {},
     "output_type": "display_data"
    },
    {
     "data": {
      "text/plain": "<Figure size 800x400 with 5 Axes>",
      "image/png": "[encoded data removed]"
     },
     "metadata": {},
     "output_type": "display_data"
    }
   ],
   "source": [
    "import pandas as pd\n",
    "import matplotlib.pyplot as plt\n",
    "from PIL import Image\n",
    "\n",
    "# Group the images by cell type\n",
    "groups = data.groupby('cellTypeName')\n",
    "\n",
    "# Select a few images from each group for plotting\n",
    "n_samples = 5\n",
    "for cell_type, group in groups:\n",
    "    sample = group.sample(n=n_samples, replace=True)\n",
    "    sample_images = []\n",
    "    for index, row in sample.iterrows():\n",
    "        filename = row['ImageName']\n",
    "        filepath = image_dir + filename\n",
    "        image = Image.open(filepath)\n",
    "        sample_images.append(image)\n",
    "    \n",
    "    # Check if any of the images are empty\n",
    "    if None in sample_images:\n",
    "        print(f\"Warning: Empty images found for cell type {cell_type}\")\n",
    "    \n",
    "    # Plot the sample images\n",
    "    if all(sample_images):\n",
    "        plt.figure(figsize=(8, 4))\n",
    "        for i, image in enumerate(sample_images):\n",
    "            plt.subplot(1, n_samples, i+1)\n",
    "            plt.imshow(image)\n",
    "            plt.axis('off')\n",
    "        plt.suptitle(cell_type, fontsize=12)\n",
    "        plt.show()\n"
   ]
  },
  {
   "cell_type": "markdown",
   "metadata": {
    "id": "Di8MSeWvcqY7"
   },
   "source": [
    "For further development of this model, we can collaborate with biological experts to detect if there is any Image Mislabeled and relabel it. In this current project, we may skip this part with the assumption that the dataset does not have Mislabeling Data. "
   ]
  },
  {
   "cell_type": "markdown",
   "metadata": {
    "id": "LgcRvbL_tTEX"
   },
   "source": [
    "3. Checking duplicate image"
   ]
  },
  {
   "cell_type": "code",
   "execution_count": 31,
   "metadata": {
    "colab": {
     "base_uri": "https://localhost:8080/"
    },
    "id": "shLSo0SAdYlM",
    "outputId": "a096d82f-0f2b-4215-e580-472dd5a3a5b4",
    "ExecuteTime": {
     "end_time": "2023-05-11T04:11:12.029888100Z",
     "start_time": "2023-05-11T04:11:10.279392300Z"
    }
   },
   "outputs": [
    {
     "name": "stdout",
     "output_type": "stream",
     "text": [
      "Duplicate image: 4971.png\n",
      "Original file: 4721.png\n",
      "['4971.png', '4721.png']\n",
      "Duplicate image: 15848.png\n",
      "Original file: 15799.png\n",
      "['4971.png', '4721.png', '15848.png', '15799.png']\n",
      "Duplicate image: 18581.png\n",
      "Original file: 18580.png\n",
      "['4971.png', '4721.png', '15848.png', '15799.png', '18581.png', '18580.png']\n",
      ">> Number of duplications found:  3\n"
     ]
    }
   ],
   "source": [
    "import os\n",
    "import hashlib\n",
    "# create a dictionary to store the md5 hashes and corresponding file paths\n",
    "md5_dict = {}\n",
    "\n",
    "# create a list to store the filenames of the duplicate images\n",
    "duplicates = []\n",
    "\n",
    "# set the path to the image directory\n",
    "image_dir = './dataset/patch_images/'\n",
    "if InColab:\n",
    "    image_dir ='/dataset/patch_images/'\n",
    "\n",
    "# init the variable to count duplicate\n",
    "count = 0\n",
    "\n",
    "# iterate through each image filename in the dataset\n",
    "for filename in data['ImageName']:\n",
    "    # search for the image file in the directory\n",
    "    filepath = os.path.join(image_dir, filename)\n",
    "    if os.path.isfile(filepath):\n",
    "        # open the file in binary mode and read its content\n",
    "        with open(filepath, 'rb') as f:\n",
    "            content = f.read()\n",
    "            # compute the md5 hash of the file content\n",
    "            md5_hash = hashlib.md5(content).hexdigest()\n",
    "            # check if the hash already exists in the dictionary\n",
    "            if md5_hash in md5_dict:\n",
    "                print(f'Duplicate image: {filename}')\n",
    "                print(f'Original file: {md5_dict[md5_hash]}')\n",
    "                count += 1\n",
    "                # add the filename to the list of duplicate images\n",
    "                duplicates.append(filename)\n",
    "                duplicates.append(md5_dict[md5_hash])\n",
    "            else:\n",
    "                md5_dict[md5_hash] = filename\n",
    "    else:\n",
    "        print(f'File not found: {filename}')\n",
    "\n",
    "print('>> Number of duplications found: ', count)"
   ]
  },
  {
   "cell_type": "markdown",
   "metadata": {
    "id": "eit1NBpieTBT"
   },
   "source": [
    "As from above, we found 3 duplications. Let's plot those duplications for detailed exploration. If they are the same, we can keep one and eliminate other. However, since we use hashlib's md5() method to compute the hash of the image, it is likely that 2 different inputs can be resulted in the same hash value."
   ]
  },
  {
   "cell_type": "code",
   "execution_count": 32,
   "metadata": {
    "colab": {
     "base_uri": "https://localhost:8080/",
     "height": 776
    },
    "id": "mSdGbQbHoJFY",
    "outputId": "ecdffd8c-204d-4c33-f36c-6ad9fd721db6",
    "ExecuteTime": {
     "end_time": "2023-05-11T04:11:22.782644300Z",
     "start_time": "2023-05-11T04:11:22.127453200Z"
    }
   },
   "outputs": [
    {
     "data": {
      "text/plain": "<Figure size 600x300 with 2 Axes>",
      "image/png": "[encoded data removed]"
     },
     "metadata": {},
     "output_type": "display_data"
    },
    {
     "data": {
      "text/plain": "<Figure size 600x300 with 2 Axes>",
      "image/png": "[encoded data removed]"
     },
     "metadata": {},
     "output_type": "display_data"
    },
    {
     "data": {
      "text/plain": "<Figure size 600x300 with 2 Axes>",
      "image/png": "[encoded data removed]"
     },
     "metadata": {},
     "output_type": "display_data"
    }
   ],
   "source": [
    "# plot the duplicate images side by side\n",
    "for i in range(0, len(duplicates), 2):\n",
    "    filename1 = duplicates[i]\n",
    "    filepath1 = os.path.join(image_dir, filename1)\n",
    "    image1 = Image.open(filepath1)\n",
    "    \n",
    "    if i+1 < len(duplicates):\n",
    "        filename2 = duplicates[i+1]\n",
    "        filepath2 = os.path.join(image_dir, filename2)\n",
    "        image2 = Image.open(filepath2)\n",
    "        \n",
    "        # plot the images side by side\n",
    "        fig, axs = plt.subplots(1, 2, figsize=(6, 3))\n",
    "        axs[0].imshow(image1)\n",
    "        axs[0].set_title(filename1)\n",
    "        axs[0].axis('off')\n",
    "        axs[1].imshow(image2)\n",
    "        axs[1].set_title(filename2)\n",
    "        axs[1].axis('off')\n",
    "        plt.show()\n",
    "    else:\n",
    "        fig, axs = plt.subplots(1, 1, figsize=(3, 3))\n",
    "        axs.imshow(image1)\n",
    "        axs.set_title(filename1)\n",
    "        axs.axis('off')\n",
    "        plt.show()"
   ]
  },
  {
   "cell_type": "markdown",
   "metadata": {
    "id": "1TxJinRDimdC"
   },
   "source": [
    "After checking, we can be sure that there are 3 duplications in our dataset images patch. Based on the finding, we will remove the duplicate imnage from the dataset.\n",
    "\n",
    "It is important to handling duplicate images, since it will help us to avoid any bias when training the model and avoid failing to generalie new data [(Lee, 2021)](https://medium.com/mlearning-ai/a-scalable-solution-to-detect-duplicate-images-97d431c2726d)."
   ]
  },
  {
   "cell_type": "code",
   "execution_count": 18,
   "metadata": {
    "id": "6OQtMITjknRD",
    "ExecuteTime": {
     "end_time": "2023-05-11T04:30:28.385888400Z",
     "start_time": "2023-05-11T04:30:28.327880900Z"
    }
   },
   "outputs": [
    {
     "ename": "NameError",
     "evalue": "name 'hashlib' is not defined",
     "output_type": "error",
     "traceback": [
      "\u001B[1;31m---------------------------------------------------------------------------\u001B[0m",
      "\u001B[1;31mNameError\u001B[0m                                 Traceback (most recent call last)",
      "Cell \u001B[1;32mIn[18], line 11\u001B[0m\n\u001B[0;32m      8\u001B[0m \u001B[38;5;28;01mfor\u001B[39;00m filename \u001B[38;5;129;01min\u001B[39;00m os\u001B[38;5;241m.\u001B[39mlistdir(image_dir):\n\u001B[0;32m      9\u001B[0m     \u001B[38;5;66;03m# Calculate the hash value of the image\u001B[39;00m\n\u001B[0;32m     10\u001B[0m     \u001B[38;5;28;01mwith\u001B[39;00m \u001B[38;5;28mopen\u001B[39m(os\u001B[38;5;241m.\u001B[39mpath\u001B[38;5;241m.\u001B[39mjoin(image_dir, filename), \u001B[38;5;124m'\u001B[39m\u001B[38;5;124mrb\u001B[39m\u001B[38;5;124m'\u001B[39m) \u001B[38;5;28;01mas\u001B[39;00m f:\n\u001B[1;32m---> 11\u001B[0m         image_hash \u001B[38;5;241m=\u001B[39m \u001B[43mhashlib\u001B[49m\u001B[38;5;241m.\u001B[39mmd5(f\u001B[38;5;241m.\u001B[39mread())\u001B[38;5;241m.\u001B[39mhexdigest()\n\u001B[0;32m     13\u001B[0m     \u001B[38;5;66;03m# Check if the hash value is already in the list of unique hashes\u001B[39;00m\n\u001B[0;32m     14\u001B[0m     \u001B[38;5;28;01mif\u001B[39;00m image_hash \u001B[38;5;129;01mnot\u001B[39;00m \u001B[38;5;129;01min\u001B[39;00m unique_hashes:\n\u001B[0;32m     15\u001B[0m         \u001B[38;5;66;03m# Add the image to the list of unique images\u001B[39;00m\n",
      "\u001B[1;31mNameError\u001B[0m: name 'hashlib' is not defined"
     ]
    }
   ],
   "source": [
    "# Create a list to store unique images\n",
    "unique_images = []\n",
    "\n",
    "# Create a set to store unique hash values\n",
    "unique_hashes = set()\n",
    "\n",
    "# Iterate over each image in the directory\n",
    "for filename in os.listdir(image_dir):\n",
    "    # Calculate the hash value of the image\n",
    "    with open(os.path.join(image_dir, filename), 'rb') as f:\n",
    "        image_hash = hashlib.md5(f.read()).hexdigest()\n",
    "    \n",
    "    # Check if the hash value is already in the list of unique hashes\n",
    "    if image_hash not in unique_hashes:\n",
    "        # Add the image to the list of unique images\n",
    "        unique_images.append(filename)\n",
    "        # Add the hash value to the set of unique hashes\n",
    "        unique_hashes.add(image_hash)\n",
    "    else:\n",
    "        # Delete the duplicate image from the directory\n",
    "        os.remove(os.path.join(image_dir, filename))"
   ]
  },
  {
   "cell_type": "markdown",
   "metadata": {
    "id": "42ho-0pIt3yA"
   },
   "source": [
    "## 3. Preprocessing Data"
   ]
  },
  {
   "cell_type": "markdown",
   "metadata": {
    "id": "BsmQgX9oyMZg"
   },
   "source": [
    "### Handle Imbalanced Dataset\n",
    "\n",
    "As explored in the EDA above, we have an imbalanced dataset for the classes: cancerous and non-cancerous cells (isCancerous or not). To tackle this problem, we can try to resample our data.\n",
    "\n",
    "For this project, since the size of the dataset is not too large, we will not perform undersampling. Instead of that, we can upsample our dataset by adding random duplicate data from the minor class. However, this technique can have one drawback which is causing overfitting to our model. \n",
    "\n",
    "To this point, we can think of the extra dataset and use it to add more data for our minor class and make it balanced with the major class."
   ]
  },
  {
   "cell_type": "code",
   "execution_count": 8,
   "metadata": {
    "colab": {
     "base_uri": "https://localhost:8080/"
    },
    "id": "dcsyxWdp9Qva",
    "outputId": "25b4ca5e-192c-40c9-8689-81035a7a5c6b",
    "ExecuteTime": {
     "end_time": "2023-05-11T04:28:10.248172Z",
     "start_time": "2023-05-11T04:28:10.187642900Z"
    }
   },
   "outputs": [
    {
     "name": "stdout",
     "output_type": "stream",
     "text": [
      "Before balancing the dataset\n",
      "isCancerous\n",
      "0    5817\n",
      "1    4079\n",
      "Name: count, dtype: int64\n",
      "-------------------------------\n",
      "After balancing the dataset\n"
     ]
    },
    {
     "data": {
      "text/plain": "isCancerous\n0    5817\n1    5817\nName: count, dtype: int64"
     },
     "execution_count": 8,
     "metadata": {},
     "output_type": "execute_result"
    }
   ],
   "source": [
    "print(\"Before balancing the dataset\")\n",
    "isCancerous_count = data.isCancerous.value_counts()\n",
    "print(isCancerous_count)\n",
    "print('-------------------------------')\n",
    "# Balance the dataset\n",
    "# Calculate the gap between 2 classes\n",
    "gap = isCancerous_count[0] - isCancerous_count[1]\n",
    "# Take data from the extra dataset\n",
    "extra_data_isCancerous = data_extra[data_extra['isCancerous'] == 1].sample(gap)\n",
    "# Concat the two\n",
    "data = pd.concat([data, extra_data_isCancerous], ignore_index=True)\n",
    "\n",
    "print(\"After balancing the dataset\")\n",
    "data.isCancerous.value_counts()"
   ]
  },
  {
   "cell_type": "markdown",
   "metadata": {
    "id": "qbqYukYu7o1-"
   },
   "source": [
    "### Get data for Task 1\n",
    "\n",
    "For Task 1, which is checking if a cell is cancerous or not, therefore, we only need to keep relevant attributes such as: isCancerous, ImageName"
   ]
  },
  {
   "cell_type": "code",
   "execution_count": 9,
   "metadata": {
    "colab": {
     "base_uri": "https://localhost:8080/",
     "height": 206
    },
    "id": "YEEGjyOT8J49",
    "outputId": "b482bdca-7681-47a6-bcf4-9953c5ca3873",
    "ExecuteTime": {
     "end_time": "2023-05-11T04:28:14.619159300Z",
     "start_time": "2023-05-11T04:28:14.577640200Z"
    }
   },
   "outputs": [
    {
     "data": {
      "text/plain": "   ImageName  isCancerous\n0  22405.png            0\n1  22406.png            0\n2  22407.png            0\n3  22408.png            0\n4  22409.png            0",
      "text/html": "<div>\n<style scoped>\n    .dataframe tbody tr th:only-of-type {\n        vertical-align: middle;\n    }\n\n    .dataframe tbody tr th {\n        vertical-align: top;\n    }\n\n    .dataframe thead th {\n        text-align: right;\n    }\n</style>\n<table border=\"1\" class=\"dataframe\">\n  <thead>\n    <tr style=\"text-align: right;\">\n      <th></th>\n      <th>ImageName</th>\n      <th>isCancerous</th>\n    </tr>\n  </thead>\n  <tbody>\n    <tr>\n      <th>0</th>\n      <td>22405.png</td>\n      <td>0</td>\n    </tr>\n    <tr>\n      <th>1</th>\n      <td>22406.png</td>\n      <td>0</td>\n    </tr>\n    <tr>\n      <th>2</th>\n      <td>22407.png</td>\n      <td>0</td>\n    </tr>\n    <tr>\n      <th>3</th>\n      <td>22408.png</td>\n      <td>0</td>\n    </tr>\n    <tr>\n      <th>4</th>\n      <td>22409.png</td>\n      <td>0</td>\n    </tr>\n  </tbody>\n</table>\n</div>"
     },
     "execution_count": 9,
     "metadata": {},
     "output_type": "execute_result"
    }
   ],
   "source": [
    "# cancerous_data for Task 1\n",
    "cancerous_data = data[['ImageName', 'isCancerous']]\n",
    "cancerous_data.head()"
   ]
  },
  {
   "cell_type": "markdown",
   "metadata": {
    "id": "dAiiCRUlyn0b"
   },
   "source": [
    "### Data Splitting\n",
    "Randomly splitting data into train, test, and validation set with the proportion of 60 - 20 - 20 respectively."
   ]
  },
  {
   "cell_type": "code",
   "execution_count": 12,
   "metadata": {
    "colab": {
     "base_uri": "https://localhost:8080/"
    },
    "id": "ukbZyHa82u02",
    "outputId": "615c9745-27d4-4d66-ba2a-c913679b6006",
    "ExecuteTime": {
     "end_time": "2023-05-11T04:28:33.357902200Z",
     "start_time": "2023-05-11T04:28:33.293377900Z"
    }
   },
   "outputs": [
    {
     "name": "stdout",
     "output_type": "stream",
     "text": [
      "Train data : 6980, Val Data: 2327, Test Data: 2327\n"
     ]
    }
   ],
   "source": [
    "from sklearn.model_selection import train_test_split\n",
    "\n",
    "train_data, test_data = train_test_split(cancerous_data, test_size=0.2, random_state=107)\n",
    "train_data, val_data = train_test_split(train_data, test_size=0.25, random_state=107)\n",
    "\n",
    "print(\"Train data : {}, Val Data: {}, Test Data: {}\".format(train_data.shape[0], val_data.shape[0], test_data.shape[0]))\n",
    "\n",
    "# Ref: http://localhost:8888/notebooks/rmit_cosc_2673_2793-2310/labs/week08/Week08_lab_excercises_NN.ipynb"
   ]
  },
  {
   "cell_type": "code",
   "execution_count": 13,
   "metadata": {
    "colab": {
     "base_uri": "https://localhost:8080/",
     "height": 206
    },
    "id": "RLcP-cB-1T0n",
    "outputId": "4f6dee64-6b3c-4ab2-fc11-a2830191cea7",
    "ExecuteTime": {
     "end_time": "2023-05-11T04:28:35.604885600Z",
     "start_time": "2023-05-11T04:28:35.581881700Z"
    }
   },
   "outputs": [
    {
     "data": {
      "text/plain": "       ImageName  isCancerous\n1682   13424.png            0\n10307  14405.png            1\n3980    9408.png            1\n5579   11951.png            1\n1781   13528.png            1",
      "text/html": "<div>\n<style scoped>\n    .dataframe tbody tr th:only-of-type {\n        vertical-align: middle;\n    }\n\n    .dataframe tbody tr th {\n        vertical-align: top;\n    }\n\n    .dataframe thead th {\n        text-align: right;\n    }\n</style>\n<table border=\"1\" class=\"dataframe\">\n  <thead>\n    <tr style=\"text-align: right;\">\n      <th></th>\n      <th>ImageName</th>\n      <th>isCancerous</th>\n    </tr>\n  </thead>\n  <tbody>\n    <tr>\n      <th>1682</th>\n      <td>13424.png</td>\n      <td>0</td>\n    </tr>\n    <tr>\n      <th>10307</th>\n      <td>14405.png</td>\n      <td>1</td>\n    </tr>\n    <tr>\n      <th>3980</th>\n      <td>9408.png</td>\n      <td>1</td>\n    </tr>\n    <tr>\n      <th>5579</th>\n      <td>11951.png</td>\n      <td>1</td>\n    </tr>\n    <tr>\n      <th>1781</th>\n      <td>13528.png</td>\n      <td>1</td>\n    </tr>\n  </tbody>\n</table>\n</div>"
     },
     "execution_count": 13,
     "metadata": {},
     "output_type": "execute_result"
    }
   ],
   "source": [
    "train_data.head()"
   ]
  },
  {
   "cell_type": "markdown",
   "metadata": {
    "id": "q7Nwd3EZ0WhZ"
   },
   "source": [
    "### Data Normalization and Data Augmentation\n",
    "We will use 'ImageDataGenerator' from 'keras.preprocessing.image' to apply augmentation to our data. The function will horizontally flip the photos, adjust their height and width, and rotate them at random. "
   ]
  },
  {
   "cell_type": "code",
   "execution_count": 19,
   "metadata": {
    "id": "_hewFw7mye6t",
    "ExecuteTime": {
     "end_time": "2023-05-11T04:30:38.967512600Z",
     "start_time": "2023-05-11T04:30:38.943519800Z"
    }
   },
   "outputs": [],
   "source": [
    "from tensorflow.keras.preprocessing.image import ImageDataGenerator\n",
    "\n",
    "def dataframe_generator(data_fr, x_column=\"ImageName\", y_column=\"cellTypeName\", classes=[\"epithelial\", \"fibroblast\", \"inflammatory\", \"others\"]):\n",
    "  # Convert the label to string format\n",
    "  data_fr[y_column] = data_fr[y_column].astype('str')\n",
    "\n",
    "  # Init default params\n",
    "  batch_size = 64\n",
    "  img_size = (27, 27)\n",
    "\n",
    "  # Define data generators for preprocessing and data augmentation\n",
    "  data_gen = ImageDataGenerator(\n",
    "      rescale=1./255,\n",
    "      rotation_range=20,\n",
    "      width_shift_range=0.2,\n",
    "      height_shift_range=0.2,\n",
    "      horizontal_flip=True,\n",
    "      validation_split=0.2)\n",
    "\n",
    "  data_generator = data_gen.flow_from_dataframe(\n",
    "          dataframe=data_fr,\n",
    "          directory=image_dir,\n",
    "          x_col=x_column,\n",
    "          y_col=y_column,\n",
    "          batch_size=batch_size,\n",
    "          target_size=img_size,\n",
    "          class_mode='categorical',\n",
    "          classes=classes)\n",
    "  return data_generator\n",
    "\n",
    "# Ref1: https://viblo.asia/p/tang-cuong-du-lieu-trong-deep-learning-oOVlYe4nl8W\n",
    "# Ref2: http://localhost:8888/notebooks/rmit_cosc_2673_2793-2310/labs/week09/Week9_lab_exercises.ipynb\n",
    "# Ref3: https://www.datacamp.com/tutorial/complete-guide-data-augmentation"
   ]
  },
  {
   "cell_type": "code",
   "execution_count": 20,
   "metadata": {
    "colab": {
     "base_uri": "https://localhost:8080/"
    },
    "id": "c0aR8gNPGDH8",
    "outputId": "d9ac8d47-a2ef-4091-8b3d-1ffb61adfa15",
    "ExecuteTime": {
     "end_time": "2023-05-11T04:30:42.129827500Z",
     "start_time": "2023-05-11T04:30:41.669176Z"
    }
   },
   "outputs": [
    {
     "name": "stdout",
     "output_type": "stream",
     "text": [
      "Found 6980 validated image filenames belonging to 2 classes.\n",
      "Found 2327 validated image filenames belonging to 2 classes.\n",
      "Found 2327 validated image filenames belonging to 2 classes.\n"
     ]
    }
   ],
   "source": [
    "# Apply datagenerator to train, test, and validation set\n",
    "train_data_gen = dataframe_generator(train_data, y_column='isCancerous', classes=['0', '1'])\n",
    "test_data_gen = dataframe_generator(test_data, y_column='isCancerous', classes=['0', '1'])\n",
    "val_data_gen = dataframe_generator(val_data, y_column='isCancerous', classes=['0', '1'])"
   ]
  },
  {
   "cell_type": "markdown",
   "metadata": {
    "id": "iGfiQh0b6LV8"
   },
   "source": [
    "## Model Development"
   ]
  },
  {
   "cell_type": "markdown",
   "metadata": {
    "id": "ScuspBtCGeY5"
   },
   "source": [
    "### 1. Determine your goals\n",
    "* Performance metric\n",
    "* Target value\n",
    "\n",
    "\n"
   ]
  },
  {
   "cell_type": "markdown",
   "metadata": {
    "id": "2KNfGZQfHhYo"
   },
   "source": [
    "### 2. Setup the experiment: \n",
    "\n",
    "\n"
   ]
  },
  {
   "cell_type": "markdown",
   "metadata": {
    "id": "CGNAlJEq6cQe"
   },
   "source": [
    "\n",
    "\n",
    "**Import Libraries**"
   ]
  },
  {
   "cell_type": "code",
   "execution_count": 21,
   "metadata": {
    "id": "mvTH5pGgokqA",
    "ExecuteTime": {
     "end_time": "2023-05-11T04:30:46.508418600Z",
     "start_time": "2023-05-11T04:30:46.470891100Z"
    }
   },
   "outputs": [],
   "source": [
    "# Performance Metrics\n",
    "from keras import backend as K\n",
    "\n",
    "# Evaluation\n",
    "from sklearn.metrics import classification_report\n",
    "from sklearn.metrics import accuracy_score, f1_score, confusion_matrix"
   ]
  },
  {
   "cell_type": "markdown",
   "metadata": {
    "id": "rlRD4bxq-H10"
   },
   "source": [
    "**Set up functions**"
   ]
  },
  {
   "cell_type": "code",
   "execution_count": 22,
   "metadata": {
    "id": "eV1il56WIJQ3",
    "ExecuteTime": {
     "end_time": "2023-05-11T04:30:48.731909700Z",
     "start_time": "2023-05-11T04:30:48.714908700Z"
    }
   },
   "outputs": [],
   "source": [
    "def plot_learning_curve(train_loss, val_loss, train_metric, val_metric, metric_name='Accuracy'):\n",
    "    plt.figure(figsize=(10,5))\n",
    "    \n",
    "    plt.subplot(1,2,1)\n",
    "    plt.plot(train_loss, 'r--')\n",
    "    plt.plot(val_loss, 'b--')\n",
    "    plt.xlabel(\"epochs\")\n",
    "    plt.ylabel(\"Loss\")\n",
    "    plt.legend(['train', 'val'], loc='upper left')\n",
    "\n",
    "    plt.subplot(1,2,2)\n",
    "    plt.plot(train_metric, 'r--')\n",
    "    plt.plot(val_metric, 'b--')\n",
    "    plt.xlabel(\"epochs\")\n",
    "    plt.ylabel(metric_name)\n",
    "    plt.legend(['train', 'val'], loc='upper left')\n",
    "\n",
    "    plt.show()\n",
    "\n",
    "# Ref: http://localhost:8888/notebooks/rmit_cosc_2673_2793-2310/labs/week09/Week9_lab_exercises.ipynb"
   ]
  },
  {
   "cell_type": "markdown",
   "metadata": {
    "id": "qPcdOyIJ68FV"
   },
   "source": [
    "**Performance Metrics:** set up functions for evaluation. In this project, since we have balanced our dataset, we will use the accuracy metric, together with other metrics such as: precision, recall, and f1 to evaluate the models performance.\n"
   ]
  },
  {
   "cell_type": "code",
   "execution_count": 23,
   "metadata": {
    "id": "VASIA1iHnmtL",
    "ExecuteTime": {
     "end_time": "2023-05-11T04:30:53.691787Z",
     "start_time": "2023-05-11T04:30:53.667779200Z"
    }
   },
   "outputs": [],
   "source": [
    "def recall(y_true, y_pred):\n",
    "    true_positives = K.sum(K.round(K.clip(y_true * y_pred, 0, 1)))\n",
    "    possible_positives = K.sum(K.round(K.clip(y_true, 0, 1)))\n",
    "    recall_keras = true_positives / (possible_positives + K.epsilon())\n",
    "    return recall_keras\n",
    "\n",
    "def precision(y_true, y_pred):\n",
    "    true_positives = K.sum(K.round(K.clip(y_true * y_pred, 0, 1)))\n",
    "    predicted_positives = K.sum(K.round(K.clip(y_pred, 0, 1)))\n",
    "    precision_keras = true_positives / (predicted_positives + K.epsilon())\n",
    "    return precision_keras\n",
    "\n",
    "def f1(y_true, y_pred):\n",
    "    p = precision(y_true, y_pred)\n",
    "    r = recall(y_true, y_pred)\n",
    "    return 2 * ((p * r) / (p + r + K.epsilon()))\n",
    "\n",
    "# List of the metrics\n",
    "METRICS = ['accuracy', recall, precision, f1]\n",
    "\n",
    "# Ref: https://gist.github.com/arnaldog12/5f2728f229a8bd3b4673b72786913252"
   ]
  },
  {
   "cell_type": "markdown",
   "metadata": {
    "id": "yhcItFDa6Okv"
   },
   "source": [
    "### Base Model - Neural Networks (MLP)\n"
   ]
  },
  {
   "cell_type": "markdown",
   "metadata": {
    "id": "NC-rUggB-PvT"
   },
   "source": [
    "1. Overview\n",
    "2. Setup\n",
    "3. Preprocessing\n",
    "4. Modeling (compile & train)\n",
    "5. Incremental change\n",
    "6. Evaluate the final model\n"
   ]
  },
  {
   "cell_type": "code",
   "execution_count": 25,
   "metadata": {
    "id": "C4RxRjO2IPOH",
    "ExecuteTime": {
     "end_time": "2023-05-11T04:31:25.160689Z",
     "start_time": "2023-05-11T04:31:25.140691200Z"
    }
   },
   "outputs": [],
   "source": [
    "INPUT_DIM = (27,27,3)\n",
    "HIDDEN_LAYER_DIM = 256\n",
    "OUTPUT_CLASSES = 2"
   ]
  },
  {
   "cell_type": "code",
   "execution_count": 32,
   "metadata": {
    "id": "oI5RF1E6ISs6",
    "ExecuteTime": {
     "end_time": "2023-05-11T04:33:36.814057200Z",
     "start_time": "2023-05-11T04:33:36.760679800Z"
    }
   },
   "outputs": [],
   "source": [
    "import tensorflow as tf\n",
    "\n",
    "# Define the model architecture\n",
    "model_NN = tf.keras.Sequential([\n",
    "    tf.keras.layers.Flatten(input_shape=INPUT_DIM),\n",
    "    tf.keras.layers.Dense(HIDDEN_LAYER_DIM, activation='relu'),\n",
    "    tf.keras.layers.Dense(OUTPUT_CLASSES, activation='sigmoid')\n",
    "])"
   ]
  },
  {
   "cell_type": "code",
   "execution_count": 33,
   "metadata": {
    "colab": {
     "base_uri": "https://localhost:8080/"
    },
    "id": "gI5iYiVRJ2Lc",
    "outputId": "ea258011-62f1-4c4d-814a-48b8114de627",
    "ExecuteTime": {
     "end_time": "2023-05-11T04:33:39.566354500Z",
     "start_time": "2023-05-11T04:33:39.532343300Z"
    }
   },
   "outputs": [
    {
     "name": "stdout",
     "output_type": "stream",
     "text": [
      "Model: \"sequential_5\"\n",
      "_________________________________________________________________\n",
      " Layer (type)                Output Shape              Param #   \n",
      "=================================================================\n",
      " flatten_5 (Flatten)         (None, 2187)              0         \n",
      "                                                                 \n",
      " dense_10 (Dense)            (None, 256)               560128    \n",
      "                                                                 \n",
      " dense_11 (Dense)            (None, 2)                 514       \n",
      "                                                                 \n",
      "=================================================================\n",
      "Total params: 560,642\n",
      "Trainable params: 560,642\n",
      "Non-trainable params: 0\n",
      "_________________________________________________________________\n"
     ]
    }
   ],
   "source": [
    "model_NN.summary()"
   ]
  },
  {
   "cell_type": "code",
   "execution_count": 34,
   "metadata": {
    "colab": {
     "base_uri": "https://localhost:8080/",
     "height": 422
    },
    "id": "bAj4phFMJ5qP",
    "outputId": "395d2dc4-ea74-4f82-b8b4-7aa66febd988",
    "ExecuteTime": {
     "end_time": "2023-05-11T04:33:45.323592700Z",
     "start_time": "2023-05-11T04:33:44.405301600Z"
    }
   },
   "outputs": [
    {
     "data": {
      "image/png": "[encoded data removed]",
      "text/plain": "<IPython.core.display.Image object>"
     },
     "execution_count": 34,
     "metadata": {},
     "output_type": "execute_result"
    }
   ],
   "source": [
    "tf.keras.utils.plot_model(model_NN, show_shapes=True)"
   ]
  },
  {
   "cell_type": "code",
   "execution_count": 36,
   "metadata": {
    "id": "g7O3_1rMKAwL",
    "ExecuteTime": {
     "end_time": "2023-05-11T04:34:03.588064300Z",
     "start_time": "2023-05-11T04:34:03.558717800Z"
    }
   },
   "outputs": [],
   "source": [
    "model_NN.compile(optimizer='adam',\n",
    "              loss=tf.keras.losses.BinaryCrossentropy(from_logits=True),\n",
    "              metrics=METRICS)"
   ]
  },
  {
   "cell_type": "code",
   "execution_count": 37,
   "metadata": {
    "colab": {
     "base_uri": "https://localhost:8080/"
    },
    "id": "9TSQDkE9KMkq",
    "outputId": "e6cccde7-602a-42fb-96a2-d423a0bc3f60",
    "ExecuteTime": {
     "end_time": "2023-05-11T04:39:09.526610200Z",
     "start_time": "2023-05-11T04:34:05.395400100Z"
    }
   },
   "outputs": [
    {
     "name": "stderr",
     "output_type": "stream",
     "text": [
      "C:\\Users\\minhd\\.conda\\envs\\practicalDataScience\\lib\\site-packages\\keras\\backend.py:5673: UserWarning: \"`binary_crossentropy` received `from_logits=True`, but the `output` argument was produced by a Sigmoid activation and thus does not represent logits. Was this intended?\n",
      "  output, from_logits = _get_logits(\n"
     ]
    }
   ],
   "source": [
    "history = model_NN.fit(train_data_gen, validation_data = val_data_gen, epochs=50, verbose=0)"
   ]
  },
  {
   "cell_type": "code",
   "execution_count": null,
   "metadata": {
    "colab": {
     "base_uri": "https://localhost:8080/",
     "height": 465
    },
    "id": "8B3zY8cZKQl8",
    "outputId": "7c242eb3-f691-4023-ade6-e483a2da7817"
   },
   "outputs": [],
   "source": [
    "plot_learning_curve(history.history['loss'], history.history['val_loss'], \n",
    "                    history.history['accuracy'], history.history['val_accuracy'], \n",
    "                    metric_name='Accuracy')"
   ]
  },
  {
   "cell_type": "code",
   "execution_count": null,
   "metadata": {
    "colab": {
     "base_uri": "https://localhost:8080/"
    },
    "id": "Lji2-R36_L4p",
    "outputId": "a059bcbc-af9c-43dd-f5a6-ac2af5b17981"
   },
   "outputs": [],
   "source": [
    "model_NN.evaluate(train_data_gen)\n",
    "model_NN.evaluate(val_data_gen)"
   ]
  },
  {
   "cell_type": "markdown",
   "metadata": {
    "id": "2N4iVZenAtex"
   },
   "source": [
    "The validation set score seems to be slightly smaller than the train set score, which indicates our model is a little bit overfit. We can apply some techniques to handle this problem such as: Drop out, or Do some regularization. "
   ]
  },
  {
   "cell_type": "code",
   "execution_count": null,
   "metadata": {
    "id": "ellGnXZqF-Rk"
   },
   "outputs": [],
   "source": [
    "model_NN_drop = tf.keras.Sequential([\n",
    "    tf.keras.layers.Flatten(input_shape=INPUT_DIM),\n",
    "    tf.keras.layers.Dense(HIDDEN_LAYER_DIM, activation='relu'),\n",
    "    tf.keras.layers.Dropout(.3),\n",
    "    tf.keras.layers.Dense(OUTPUT_CLASSES)\n",
    "])"
   ]
  },
  {
   "cell_type": "code",
   "execution_count": null,
   "metadata": {
    "id": "6WX_PHOmG5_0"
   },
   "outputs": [],
   "source": [
    "model_NN_drop.compile(optimizer='adam',\n",
    "              loss=tf.keras.losses.BinaryCrossentropy(from_logits=True),\n",
    "              metrics=METRICS)"
   ]
  },
  {
   "cell_type": "code",
   "execution_count": null,
   "metadata": {
    "id": "FWd-EH-3G7tr"
   },
   "outputs": [],
   "source": [
    "history_drop = model_NN_drop.fit(train_data_gen, validation_data = val_data_gen, epochs=50, verbose=0)"
   ]
  },
  {
   "cell_type": "code",
   "execution_count": null,
   "metadata": {
    "colab": {
     "base_uri": "https://localhost:8080/",
     "height": 467
    },
    "id": "14zjgWJuGY6F",
    "outputId": "aefba403-66ba-473c-abfe-27355948aec6"
   },
   "outputs": [],
   "source": [
    "plt.figure(figsize=(10,5))\n",
    "plt.subplot(1,2,1)\n",
    "plt.plot(history_drop.history['loss'], 'r--')\n",
    "plt.plot(history_drop.history['val_loss'], 'b--')\n",
    "plt.xlabel(\"epochs\")\n",
    "plt.ylabel(\"Loss\")\n",
    "plt.legend(['train', 'val'], loc='upper left')\n",
    "\n",
    "plt.subplot(1,2,2)\n",
    "plt.plot(history_drop.history['accuracy'], 'r--')\n",
    "plt.plot(history_drop.history['val_accuracy'], 'b--')\n",
    "plt.xlabel(\"epochs\")\n",
    "plt.ylabel(\"Accuracy\")\n",
    "plt.legend(['train', 'val'], loc='upper left')\n",
    "plt.show()\n",
    "\n",
    "plt.show()"
   ]
  },
  {
   "cell_type": "code",
   "execution_count": null,
   "metadata": {
    "colab": {
     "base_uri": "https://localhost:8080/"
    },
    "id": "TC2Z1g8kKmLD",
    "outputId": "2623ab7f-2c9c-4d07-af6c-9acd17023786"
   },
   "outputs": [],
   "source": [
    "model_NN_drop.evaluate(train_data_gen)\n",
    "model_NN_drop.evaluate(val_data_gen)"
   ]
  },
  {
   "cell_type": "markdown",
   "metadata": {
    "id": "BVFqevJcKtJU"
   },
   "source": [
    "After applying \"drop out\", our model seems to be badly underfit. Therefore, we can adjust the value of drop out and add extra layer to see if we can improve the model performance."
   ]
  },
  {
   "cell_type": "markdown",
   "metadata": {
    "id": "boX0NvaA_U2h"
   },
   "source": [
    "Add 1 extra layer + modified drop out"
   ]
  },
  {
   "cell_type": "code",
   "execution_count": null,
   "metadata": {
    "colab": {
     "base_uri": "https://localhost:8080/"
    },
    "id": "d0XtV6wy_WDF",
    "outputId": "534fdcd1-11b9-4bdc-972c-da40c428c6e2"
   },
   "outputs": [],
   "source": [
    "# Define the 'model with 1 extra layer' architecture\n",
    "model_NN_1_drop = tf.keras.Sequential([\n",
    "    tf.keras.layers.Flatten(input_shape=INPUT_DIM),\n",
    "    tf.keras.layers.Dense(HIDDEN_LAYER_DIM, activation='relu'),\n",
    "    tf.keras.layers.Dropout(.5),\n",
    "    tf.keras.layers.Dense(HIDDEN_LAYER_DIM*(1/3), activation='relu'),\n",
    "    tf.keras.layers.Dense(OUTPUT_CLASSES, activation='sigmoid')\n",
    "])\n",
    "\n",
    "# Check model architecture\n",
    "model_NN_1_drop.summary()"
   ]
  },
  {
   "cell_type": "code",
   "execution_count": null,
   "metadata": {
    "colab": {
     "base_uri": "https://localhost:8080/",
     "height": 644
    },
    "id": "_UH3-sugqF2n",
    "outputId": "29bfe707-3aec-4ae6-9112-f824395a0e67"
   },
   "outputs": [],
   "source": [
    "tf.keras.utils.plot_model(model_NN_1_drop, show_shapes=True)"
   ]
  },
  {
   "cell_type": "code",
   "execution_count": null,
   "metadata": {
    "id": "mIIRVLlxI8rR"
   },
   "outputs": [],
   "source": [
    "# Compile the model\n",
    "model_NN_1_drop.compile(optimizer='adam',\n",
    "              loss='binary_crossentropy',\n",
    "              metrics=METRICS)"
   ]
  },
  {
   "cell_type": "code",
   "execution_count": null,
   "metadata": {
    "id": "bbVhWUj8IaOr"
   },
   "outputs": [],
   "source": [
    "# Fit with the train and val dataset\n",
    "history_NN_1_drop = model_NN_1_drop.fit(train_data_gen, validation_data=val_data_gen, epochs=50, verbose=0)"
   ]
  },
  {
   "cell_type": "code",
   "execution_count": null,
   "metadata": {
    "id": "T3FxlklLpl04"
   },
   "outputs": [],
   "source": [
    "plot_learning_curve(history_NN_1_drop.history['loss'], history_NN_1_drop.history['val_loss'], \n",
    "                    history_NN_1_drop.history['accuracy'], history_NN_1_drop.history['val_accuracy'], \n",
    "                    metric_name='Accuracy')"
   ]
  },
  {
   "cell_type": "code",
   "execution_count": null,
   "metadata": {
    "id": "Kn_GxNG-IcBr"
   },
   "outputs": [],
   "source": [
    "# Evaluate the model\n",
    "model_NN_1_drop.evaluate(train_data_gen)\n",
    "model_NN_1_drop.evaluate(val_data_gen)"
   ]
  },
  {
   "cell_type": "markdown",
   "metadata": {
    "id": "gsm81JZsJpTs"
   },
   "source": [
    "We can see that after adjusting the drop out value and add more extra layer with the aim to make our model more generalized, however, the model seems to perform badly (accuracy only 50% on both train set and validation set) compared to the default neural networks (84% on train set and 83% on validation set). Therefore, we may keep the default neural networks as our final NN model and then evaluate it on the test set. Next, we can think of building other models to see if it can perform better than the NN one. We can use the evaluation scores we get on the test set to compare those models together. \n",
    "\n",
    "\n",
    "\n"
   ]
  },
  {
   "cell_type": "markdown",
   "metadata": {
    "id": "wXwe2ZRsrC3n"
   },
   "source": [
    "#### Evaluation\n",
    "\n",
    "Testing the final version of neural networks model. "
   ]
  },
  {
   "cell_type": "markdown",
   "metadata": {
    "id": "KZL6h6vIvv-w"
   },
   "source": [
    "We now have the final version of neural nertworks. We then use the test dataset to evaluate this model once again and save it for further comparison with other models."
   ]
  },
  {
   "cell_type": "code",
   "execution_count": null,
   "metadata": {
    "id": "FXcQmfGUrFEB"
   },
   "outputs": [],
   "source": [
    "# Task 1: Neural Networks Evaluation\n",
    "t1_nn_evaluation = model_NN.evaluate(test_data_gen)"
   ]
  },
  {
   "cell_type": "code",
   "execution_count": null,
   "metadata": {
    "id": "Lg7391hJazr3"
   },
   "outputs": [],
   "source": [
    "Y_pred = model_NN.predict(train_data_gen)\n",
    "y_pred = np.argmax(Y_pred, axis=1)\n",
    "\n",
    "print(classification_report(train_data_gen.classes, y_pred))"
   ]
  },
  {
   "cell_type": "markdown",
   "metadata": {
    "id": "C5Q51uZDHKSe"
   },
   "source": [
    "### Convolutional Neural Network"
   ]
  },
  {
   "cell_type": "markdown",
   "metadata": {
    "id": "fDlEZwbHHYnx"
   },
   "source": [
    "### ResNet50"
   ]
  },
  {
   "cell_type": "markdown",
   "source": [
    "The ResNet architecture introduced the concept of skip connection to solve the vanishing and exploding gradient problem common in deep neural networks. The skip connection allows the gradient to be passed"
   ],
   "metadata": {
    "collapsed": false
   }
  },
  {
   "cell_type": "code",
   "execution_count": 39,
   "outputs": [
    {
     "data": {
      "text/plain": "['/device:GPU:0']"
     },
     "execution_count": 39,
     "metadata": {},
     "output_type": "execute_result"
    }
   ],
   "source": [],
   "metadata": {
    "collapsed": false,
    "ExecuteTime": {
     "end_time": "2023-05-11T04:41:30.262462900Z",
     "start_time": "2023-05-11T04:41:30.224271600Z"
    }
   }
  },
  {
   "cell_type": "markdown",
   "metadata": {
    "id": "Q_caN3DuHlN6"
   },
   "source": [
    "### GoogLeNet"
   ]
  },
  {
   "cell_type": "markdown",
   "metadata": {
    "id": "0W0LBNdFHx-O"
   },
   "source": [
    "### AlexNet"
   ]
  },
  {
   "cell_type": "code",
   "execution_count": null,
   "metadata": {
    "id": "x52uqHYewaDe"
   },
   "outputs": [],
   "source": []
  },
  {
   "cell_type": "markdown",
   "metadata": {
    "id": "_aD86sQAKiK5"
   },
   "source": [
    "## Evaluation"
   ]
  },
  {
   "cell_type": "markdown",
   "metadata": {
    "id": "5tRGJTkZHzaC"
   },
   "source": []
  }
 ],
 "metadata": {
  "accelerator": "GPU",
  "colab": {
   "toc_visible": true,
   "provenance": [],
   "include_colab_link": true
  },
  "gpuClass": "standard",
  "kernelspec": {
   "name": "python3",
   "language": "python",
   "display_name": "Python 3 (ipykernel)"
  },
  "language_info": {
   "name": "python"
  }
 },
 "nbformat": 4,
 "nbformat_minor": 0
}
